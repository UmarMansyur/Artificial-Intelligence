{
 "cells": [
  {
   "cell_type": "code",
   "execution_count": 2,
   "metadata": {},
   "outputs": [],
   "source": [
    "import pandas as pd"
   ]
  },
  {
   "cell_type": "code",
   "execution_count": 3,
   "metadata": {},
   "outputs": [
    {
     "data": {
      "text/html": [
       "<div>\n",
       "<style scoped>\n",
       "    .dataframe tbody tr th:only-of-type {\n",
       "        vertical-align: middle;\n",
       "    }\n",
       "\n",
       "    .dataframe tbody tr th {\n",
       "        vertical-align: top;\n",
       "    }\n",
       "\n",
       "    .dataframe thead th {\n",
       "        text-align: right;\n",
       "    }\n",
       "</style>\n",
       "<table border=\"1\" class=\"dataframe\">\n",
       "  <thead>\n",
       "    <tr style=\"text-align: right;\">\n",
       "      <th></th>\n",
       "      <th>Nama</th>\n",
       "      <th>Nilai Formatif</th>\n",
       "      <th>Nilai UTS</th>\n",
       "      <th>Nilai UAS</th>\n",
       "    </tr>\n",
       "  </thead>\n",
       "  <tbody>\n",
       "    <tr>\n",
       "      <th>0</th>\n",
       "      <td>Andi</td>\n",
       "      <td>80</td>\n",
       "      <td>70</td>\n",
       "      <td>90</td>\n",
       "    </tr>\n",
       "    <tr>\n",
       "      <th>1</th>\n",
       "      <td>Budi</td>\n",
       "      <td>90</td>\n",
       "      <td>80</td>\n",
       "      <td>70</td>\n",
       "    </tr>\n",
       "    <tr>\n",
       "      <th>2</th>\n",
       "      <td>Caca</td>\n",
       "      <td>70</td>\n",
       "      <td>90</td>\n",
       "      <td>80</td>\n",
       "    </tr>\n",
       "    <tr>\n",
       "      <th>3</th>\n",
       "      <td>Dedi</td>\n",
       "      <td>60</td>\n",
       "      <td>80</td>\n",
       "      <td>90</td>\n",
       "    </tr>\n",
       "    <tr>\n",
       "      <th>4</th>\n",
       "      <td>Euis</td>\n",
       "      <td>50</td>\n",
       "      <td>70</td>\n",
       "      <td>80</td>\n",
       "    </tr>\n",
       "    <tr>\n",
       "      <th>5</th>\n",
       "      <td>Fafa</td>\n",
       "      <td>40</td>\n",
       "      <td>60</td>\n",
       "      <td>70</td>\n",
       "    </tr>\n",
       "    <tr>\n",
       "      <th>6</th>\n",
       "      <td>Gigi</td>\n",
       "      <td>30</td>\n",
       "      <td>50</td>\n",
       "      <td>60</td>\n",
       "    </tr>\n",
       "    <tr>\n",
       "      <th>7</th>\n",
       "      <td>Haha</td>\n",
       "      <td>20</td>\n",
       "      <td>40</td>\n",
       "      <td>50</td>\n",
       "    </tr>\n",
       "    <tr>\n",
       "      <th>8</th>\n",
       "      <td>Iwan</td>\n",
       "      <td>10</td>\n",
       "      <td>30</td>\n",
       "      <td>40</td>\n",
       "    </tr>\n",
       "    <tr>\n",
       "      <th>9</th>\n",
       "      <td>Joko</td>\n",
       "      <td>0</td>\n",
       "      <td>20</td>\n",
       "      <td>30</td>\n",
       "    </tr>\n",
       "    <tr>\n",
       "      <th>10</th>\n",
       "      <td>Riyan</td>\n",
       "      <td>98</td>\n",
       "      <td>70</td>\n",
       "      <td>60</td>\n",
       "    </tr>\n",
       "    <tr>\n",
       "      <th>11</th>\n",
       "      <td>Alfin</td>\n",
       "      <td>80</td>\n",
       "      <td>70</td>\n",
       "      <td>90</td>\n",
       "    </tr>\n",
       "    <tr>\n",
       "      <th>12</th>\n",
       "      <td>Rizky</td>\n",
       "      <td>90</td>\n",
       "      <td>80</td>\n",
       "      <td>70</td>\n",
       "    </tr>\n",
       "    <tr>\n",
       "      <th>13</th>\n",
       "      <td>Rizal</td>\n",
       "      <td>70</td>\n",
       "      <td>90</td>\n",
       "      <td>80</td>\n",
       "    </tr>\n",
       "    <tr>\n",
       "      <th>14</th>\n",
       "      <td>Maulana</td>\n",
       "      <td>60</td>\n",
       "      <td>80</td>\n",
       "      <td>90</td>\n",
       "    </tr>\n",
       "  </tbody>\n",
       "</table>\n",
       "</div>"
      ],
      "text/plain": [
       "       Nama  Nilai Formatif  Nilai UTS  Nilai UAS\n",
       "0      Andi              80         70         90\n",
       "1      Budi              90         80         70\n",
       "2      Caca              70         90         80\n",
       "3      Dedi              60         80         90\n",
       "4      Euis              50         70         80\n",
       "5      Fafa              40         60         70\n",
       "6      Gigi              30         50         60\n",
       "7      Haha              20         40         50\n",
       "8      Iwan              10         30         40\n",
       "9      Joko               0         20         30\n",
       "10    Riyan              98         70         60\n",
       "11    Alfin              80         70         90\n",
       "12    Rizky              90         80         70\n",
       "13    Rizal              70         90         80\n",
       "14  Maulana              60         80         90"
      ]
     },
     "execution_count": 3,
     "metadata": {},
     "output_type": "execute_result"
    }
   ],
   "source": [
    "df = pd.DataFrame({\n",
    "    \"Nama\": [\"Andi\",\"Budi\",\"Caca\",\"Dedi\",\"Euis\",\"Fafa\",\"Gigi\",\"Haha\",\"Iwan\",\"Joko\",\"Riyan\",\"Alfin\",\"Rizky\",\"Rizal\",\"Maulana\"],\n",
    "    \"Nilai Formatif\": [80,90,70,60,50,40,30,20,10,0,98,80,90,70,60],\n",
    "    \"Nilai UTS\": [70,80,90,80,70,60,50,40,30,20,70,70,80,90,80],\n",
    "    \"Nilai UAS\": [90,70,80,90,80,70,60,50,40,30,60,90,70,80,90]\n",
    "})\n",
    "\n",
    "df"
   ]
  },
  {
   "cell_type": "markdown",
   "metadata": {},
   "source": [
    "1. Menentukan 5 peringkat terbawah dan teratas"
   ]
  },
  {
   "cell_type": "code",
   "execution_count": 4,
   "metadata": {},
   "outputs": [
    {
     "name": "stdout",
     "output_type": "stream",
     "text": [
      "5 Peringkat Teratas:\n",
      "     Nama  Nilai Formatif  Nilai UTS  Nilai UAS  Nilai Total\n",
      "0    Andi              80         70         90         80.0\n",
      "1    Budi              90         80         70         80.0\n",
      "2    Caca              70         90         80         80.0\n",
      "11  Alfin              80         70         90         80.0\n",
      "12  Rizky              90         80         70         80.0\n",
      "\n",
      "5 Peringkat Terbawah:\n",
      "   Nama  Nilai Formatif  Nilai UTS  Nilai UAS  Nilai Total\n",
      "5  Fafa              40         60         70    56.666667\n",
      "6  Gigi              30         50         60    46.666667\n",
      "7  Haha              20         40         50    36.666667\n",
      "8  Iwan              10         30         40    26.666667\n",
      "9  Joko               0         20         30    16.666667\n"
     ]
    }
   ],
   "source": [
    "df['Nilai Total'] = (df['Nilai Formatif'] + df['Nilai UTS'] + df['Nilai UAS']) / 3\n",
    "\n",
    "# Mengurutkan DataFrame berdasarkan Nilai Total\n",
    "df = df.sort_values(by='Nilai Total', ascending=False)\n",
    "\n",
    "# Menentukan 5 peringkat teratas\n",
    "peringkat_teratas = df.head(5)\n",
    "\n",
    "# Menentukan 5 peringkat terbawah\n",
    "peringkat_terbawah = df.tail(5)\n",
    "\n",
    "print(\"5 Peringkat Teratas:\")\n",
    "print(peringkat_teratas)\n",
    "\n",
    "print(\"\\n5 Peringkat Terbawah:\")\n",
    "print(peringkat_terbawah)"
   ]
  },
  {
   "cell_type": "markdown",
   "metadata": {},
   "source": [
    "2. Menentukan nilai rata - rata dari masing - masing siswa"
   ]
  },
  {
   "cell_type": "code",
   "execution_count": 9,
   "metadata": {},
   "outputs": [
    {
     "name": "stdout",
     "output_type": "stream",
     "text": [
      "Nilai Rata-rata Masing-masing Siswa:\n",
      "       Nama  Rata-rata Nilai\n",
      "0      Andi        80.000000\n",
      "1      Budi        80.000000\n",
      "2      Caca        80.000000\n",
      "11    Alfin        80.000000\n",
      "12    Rizky        80.000000\n",
      "13    Rizal        80.000000\n",
      "3      Dedi        76.666667\n",
      "14  Maulana        76.666667\n",
      "10    Riyan        76.000000\n",
      "4      Euis        66.666667\n",
      "5      Fafa        56.666667\n",
      "6      Gigi        46.666667\n",
      "7      Haha        36.666667\n",
      "8      Iwan        26.666667\n",
      "9      Joko        16.666667\n"
     ]
    }
   ],
   "source": [
    "df['Rata-rata Nilai'] = df[['Nilai Formatif', 'Nilai UTS', 'Nilai UAS']].mean(axis=1)\n",
    "\n",
    "print(\"Nilai Rata-rata Masing-masing Siswa:\")\n",
    "print(df[['Nama', 'Rata-rata Nilai']])"
   ]
  },
  {
   "cell_type": "markdown",
   "metadata": {},
   "source": [
    "3. Menentukan nilai rata - rata dari masing ujian"
   ]
  },
  {
   "cell_type": "code",
   "execution_count": 10,
   "metadata": {},
   "outputs": [
    {
     "name": "stdout",
     "output_type": "stream",
     "text": [
      "Nilai Rata-rata Formatif: 56.53333333333333\n",
      "Nilai Rata-rata UTS: 65.33333333333333\n",
      "Nilai Rata-rata UAS: 70.0\n"
     ]
    }
   ],
   "source": [
    "rata_rata_formatif = df['Nilai Formatif'].mean()\n",
    "rata_rata_uts = df['Nilai UTS'].mean()\n",
    "rata_rata_uas = df['Nilai UAS'].mean()\n",
    "\n",
    "print(\"Nilai Rata-rata Formatif:\", rata_rata_formatif)\n",
    "print(\"Nilai Rata-rata UTS:\", rata_rata_uts)\n",
    "print(\"Nilai Rata-rata UAS:\", rata_rata_uas)"
   ]
  },
  {
   "cell_type": "markdown",
   "metadata": {},
   "source": [
    "4. Siswa yang memiliki nilai tertinggi dan terendah"
   ]
  },
  {
   "cell_type": "code",
   "execution_count": 11,
   "metadata": {},
   "outputs": [
    {
     "name": "stdout",
     "output_type": "stream",
     "text": [
      "Siswa dengan Nilai Akhir Tertinggi:\n",
      "     Nama  Nilai Akhir\n",
      "0    Andi         80.0\n",
      "1    Budi         80.0\n",
      "2    Caca         80.0\n",
      "11  Alfin         80.0\n",
      "12  Rizky         80.0\n",
      "13  Rizal         80.0\n",
      "\n",
      "Siswa dengan Nilai Akhir Terendah:\n",
      "   Nama  Nilai Akhir\n",
      "9  Joko    16.666667\n"
     ]
    }
   ],
   "source": [
    "df['Nilai Akhir'] = (df['Nilai Formatif'] + df['Nilai UTS'] + df['Nilai UAS']) / 3\n",
    "\n",
    "# Menemukan siswa dengan nilai akhir tertinggi\n",
    "siswa_tertinggi = df[df['Nilai Akhir'] == df['Nilai Akhir'].max()]\n",
    "\n",
    "# Menemukan siswa dengan nilai akhir terendah\n",
    "siswa_terendah = df[df['Nilai Akhir'] == df['Nilai Akhir'].min()]\n",
    "\n",
    "print(\"Siswa dengan Nilai Akhir Tertinggi:\")\n",
    "print(siswa_tertinggi[['Nama', 'Nilai Akhir']])\n",
    "\n",
    "print(\"\\nSiswa dengan Nilai Akhir Terendah:\")\n",
    "print(siswa_terendah[['Nama', 'Nilai Akhir']])"
   ]
  },
  {
   "cell_type": "markdown",
   "metadata": {},
   "source": [
    "5. Siswa yang memiliki nilai akhir yang sama"
   ]
  },
  {
   "cell_type": "code",
   "execution_count": 12,
   "metadata": {},
   "outputs": [
    {
     "name": "stdout",
     "output_type": "stream",
     "text": [
      "Siswa yang memiliki Nilai Akhir Sama:\n",
      "       Nama  Nilai Akhir\n",
      "0      Andi    80.000000\n",
      "1      Budi    80.000000\n",
      "2      Caca    80.000000\n",
      "11    Alfin    80.000000\n",
      "12    Rizky    80.000000\n",
      "13    Rizal    80.000000\n",
      "3      Dedi    76.666667\n",
      "14  Maulana    76.666667\n"
     ]
    }
   ],
   "source": [
    "df['Nilai Akhir'] = (df['Nilai Formatif'] + df['Nilai UTS'] + df['Nilai UAS']) / 3\n",
    "\n",
    "nilai_akhir_sama = df[df.duplicated(subset=['Nilai Akhir'], keep=False)]\n",
    "\n",
    "print(\"Siswa yang memiliki Nilai Akhir Sama:\")\n",
    "print(nilai_akhir_sama[['Nama', 'Nilai Akhir']])"
   ]
  },
  {
   "cell_type": "markdown",
   "metadata": {},
   "source": [
    "6. Siswa yang memiliki nilai akhir lebih dari 80"
   ]
  },
  {
   "cell_type": "code",
   "execution_count": 13,
   "metadata": {},
   "outputs": [
    {
     "name": "stdout",
     "output_type": "stream",
     "text": [
      "Siswa yang memiliki Nilai Akhir lebih dari 80:\n",
      "Empty DataFrame\n",
      "Columns: [Nama, Nilai Akhir]\n",
      "Index: []\n"
     ]
    }
   ],
   "source": [
    "df['Nilai Akhir'] = (df['Nilai Formatif'] + df['Nilai UTS'] + df['Nilai UAS']) / 3\n",
    "\n",
    "siswa_nilai_tinggi = df[df['Nilai Akhir'] > 80]\n",
    "\n",
    "print(\"Siswa yang memiliki Nilai Akhir lebih dari 80:\")\n",
    "print(siswa_nilai_tinggi[['Nama', 'Nilai Akhir']])"
   ]
  }
 ],
 "metadata": {
  "kernelspec": {
   "display_name": "Python 3",
   "language": "python",
   "name": "python3"
  },
  "language_info": {
   "codemirror_mode": {
    "name": "ipython",
    "version": 3
   },
   "file_extension": ".py",
   "mimetype": "text/x-python",
   "name": "python",
   "nbconvert_exporter": "python",
   "pygments_lexer": "ipython3",
   "version": "3.10.11"
  }
 },
 "nbformat": 4,
 "nbformat_minor": 2
}
