{
 "cells": [
  {
   "cell_type": "code",
   "execution_count": 36,
   "metadata": {},
   "outputs": [
    {
     "name": "stdout",
     "output_type": "stream",
     "text": [
      "pip 23.3.1 from c:\\Users\\Putra_GDR\\AppData\\Local\\Programs\\Python\\Python312\\Lib\\site-packages\\pip (python 3.12)Note: you may need to restart the kernel to use updated packages.\n",
      "\n",
      "\n"
     ]
    }
   ],
   "source": [
    "pip --version"
   ]
  },
  {
   "cell_type": "code",
   "execution_count": 1,
   "metadata": {},
   "outputs": [],
   "source": [
    "import pandas as pd"
   ]
  },
  {
   "cell_type": "code",
   "execution_count": 3,
   "metadata": {},
   "outputs": [
    {
     "data": {
      "text/html": [
       "<div>\n",
       "<style scoped>\n",
       "    .dataframe tbody tr th:only-of-type {\n",
       "        vertical-align: middle;\n",
       "    }\n",
       "\n",
       "    .dataframe tbody tr th {\n",
       "        vertical-align: top;\n",
       "    }\n",
       "\n",
       "    .dataframe thead th {\n",
       "        text-align: right;\n",
       "    }\n",
       "</style>\n",
       "<table border=\"1\" class=\"dataframe\">\n",
       "  <thead>\n",
       "    <tr style=\"text-align: right;\">\n",
       "      <th></th>\n",
       "      <th>Nama</th>\n",
       "      <th>Nilai Formatif</th>\n",
       "      <th>Nilai UTS</th>\n",
       "      <th>Nilai UAS</th>\n",
       "      <th>Unnamed: 4</th>\n",
       "    </tr>\n",
       "  </thead>\n",
       "  <tbody>\n",
       "    <tr>\n",
       "      <th>0</th>\n",
       "      <td>Andi</td>\n",
       "      <td>80</td>\n",
       "      <td>70</td>\n",
       "      <td>90</td>\n",
       "      <td>NaN</td>\n",
       "    </tr>\n",
       "    <tr>\n",
       "      <th>1</th>\n",
       "      <td>Budi</td>\n",
       "      <td>90</td>\n",
       "      <td>80</td>\n",
       "      <td>70</td>\n",
       "      <td>NaN</td>\n",
       "    </tr>\n",
       "    <tr>\n",
       "      <th>2</th>\n",
       "      <td>Caca</td>\n",
       "      <td>70</td>\n",
       "      <td>90</td>\n",
       "      <td>80</td>\n",
       "      <td>NaN</td>\n",
       "    </tr>\n",
       "    <tr>\n",
       "      <th>3</th>\n",
       "      <td>Dedi</td>\n",
       "      <td>60</td>\n",
       "      <td>80</td>\n",
       "      <td>90</td>\n",
       "      <td>NaN</td>\n",
       "    </tr>\n",
       "    <tr>\n",
       "      <th>4</th>\n",
       "      <td>Euis</td>\n",
       "      <td>50</td>\n",
       "      <td>70</td>\n",
       "      <td>80</td>\n",
       "      <td>NaN</td>\n",
       "    </tr>\n",
       "  </tbody>\n",
       "</table>\n",
       "</div>"
      ],
      "text/plain": [
       "   Nama  Nilai Formatif  Nilai UTS  Nilai UAS  Unnamed: 4\n",
       "0  Andi              80         70         90         NaN\n",
       "1  Budi              90         80         70         NaN\n",
       "2  Caca              70         90         80         NaN\n",
       "3  Dedi              60         80         90         NaN\n",
       "4  Euis              50         70         80         NaN"
      ]
     },
     "execution_count": 3,
     "metadata": {},
     "output_type": "execute_result"
    }
   ],
   "source": [
    "df = pd.read_csv('./data.csv', sep=';')\n",
    "df.head()"
   ]
  },
  {
   "cell_type": "code",
   "execution_count": 7,
   "metadata": {},
   "outputs": [
    {
     "name": "stdout",
     "output_type": "stream",
     "text": [
      "       Nama  Nilai Formatif  Nilai UTS  Nilai UAS\n",
      "0      Andi              80         70         90\n",
      "1      Budi              90         80         70\n",
      "2      Caca              70         90         80\n",
      "3      Dedi              60         80         90\n",
      "4      Euis              50         70         80\n",
      "5      Fafa              40         60         70\n",
      "6      Gigi              30         50         60\n",
      "7      Haha              20         40         50\n",
      "8      Iwan              10         30         40\n",
      "9      Joko               0         20         30\n",
      "10    Riyan              98         70         60\n",
      "11    Alfin              80         70         90\n",
      "12    Rizky              90         80         70\n",
      "13    Rizal              70         90         80\n",
      "14  Maulana              60         80         90\n"
     ]
    }
   ],
   "source": [
    "df = pd.DataFrame({\n",
    "    \"Nama\":[\"Andi\",\"Budi\",\"Caca\",\"Dedi\",\"Euis\",\"Fafa\",\"Gigi\",\"Haha\",\"Iwan\",\"Joko\",\"Riyan\",\"Alfin\",\"Rizky\",\"Rizal\",\"Maulana\"],\n",
    "    \"Nilai Formatif\": [80,90,70,60,50,40,30,20,10,0,98,80,90,70,60],\n",
    "    \"Nilai UTS\": [70,80,90,80,70,60,50,40,30,20,70,70,80,90,80],\n",
    "    \"Nilai UAS\": [90,70,80,90,80,70,60,50,40,30,60,90,70,80,90]\n",
    "})\n",
    "\n",
    "print(df)"
   ]
  },
  {
   "cell_type": "code",
   "execution_count": 11,
   "metadata": {},
   "outputs": [
    {
     "name": "stdout",
     "output_type": "stream",
     "text": [
      "5 Teratas:\n",
      "     Nama  Nilai Formatif  Nilai UTS  Nilai UAS  Rata-rata Nilai\n",
      "0    Andi              80         70         90             80.0\n",
      "1    Budi              90         80         70             80.0\n",
      "2    Caca              70         90         80             80.0\n",
      "11  Alfin              80         70         90             80.0\n",
      "12  Rizky              90         80         70             80.0\n",
      "\n",
      "5 Terbawah:\n",
      "   Nama  Nilai Formatif  Nilai UTS  Nilai UAS  Rata-rata Nilai\n",
      "5  Fafa              40         60         70        56.666667\n",
      "6  Gigi              30         50         60        46.666667\n",
      "7  Haha              20         40         50        36.666667\n",
      "8  Iwan              10         30         40        26.666667\n",
      "9  Joko               0         20         30        16.666667\n"
     ]
    }
   ],
   "source": [
    "\n",
    "# Menambahkan kolom Rata-rata Nilai\n",
    "df['Rata-rata Nilai'] = df[['Nilai Formatif', 'Nilai UTS', 'Nilai UAS']].mean(axis=1)\n",
    "\n",
    "# Mengurutkan DataFrame berdasarkan Rata-rata Nilai dalam urutan menurun\n",
    "df_sorted = df.sort_values(by='Rata-rata Nilai', ascending=False)\n",
    "\n",
    "# Membuat DataFrame untuk 5 teratas dan 5 terbawah\n",
    "top_5 = df_sorted.head(5)\n",
    "bottom_5 = df_sorted.tail(5)\n",
    "\n",
    "print(\"5 Teratas:\")\n",
    "print(top_5)\n",
    "\n",
    "print(\"\\n5 Terbawah:\")\n",
    "print(bottom_5)\n"
   ]
  },
  {
   "cell_type": "code",
   "execution_count": 12,
   "metadata": {},
   "outputs": [
    {
     "name": "stdout",
     "output_type": "stream",
     "text": [
      "       Nama  Nilai Formatif  Nilai UTS  Nilai UAS  Rata-rata Nilai\n",
      "0      Andi              80         70         90        80.000000\n",
      "1      Budi              90         80         70        80.000000\n",
      "2      Caca              70         90         80        80.000000\n",
      "3      Dedi              60         80         90        76.666667\n",
      "4      Euis              50         70         80        66.666667\n",
      "5      Fafa              40         60         70        56.666667\n",
      "6      Gigi              30         50         60        46.666667\n",
      "7      Haha              20         40         50        36.666667\n",
      "8      Iwan              10         30         40        26.666667\n",
      "9      Joko               0         20         30        16.666667\n",
      "10    Riyan              98         70         60        76.000000\n",
      "11    Alfin              80         70         90        80.000000\n",
      "12    Rizky              90         80         70        80.000000\n",
      "13    Rizal              70         90         80        80.000000\n",
      "14  Maulana              60         80         90        76.666667\n"
     ]
    }
   ],
   "source": [
    "#menentukan nilai dari rata rata siswa\n",
    "df['Rata-rata Nilai'] = df[['Nilai Formatif', 'Nilai UTS', 'Nilai UAS']].mean(axis=1)\n",
    "print(df)"
   ]
  },
  {
   "cell_type": "code",
   "execution_count": 35,
   "metadata": {},
   "outputs": [
    {
     "name": "stdout",
     "output_type": "stream",
     "text": [
      "Rata-rata Nilai Formatif: 56.53333333333333\n",
      "Rata-rata Nilai UTS: 65.33333333333333\n",
      "Rata-rata Nilai UAS: 70.0\n"
     ]
    }
   ],
   "source": [
    "rata_rata_formatif = df['Nilai Formatif'].mean()\n",
    "rata_rata_uts = df['Nilai UTS'].mean()\n",
    "rata_rata_uas = df['Nilai UAS'].mean()\n",
    "\n",
    "print(f\"Rata-rata Nilai Formatif: {rata_rata_formatif}\")\n",
    "print(f\"Rata-rata Nilai UTS: {rata_rata_uts}\")\n",
    "print(f\"Rata-rata Nilai UAS: {rata_rata_uas}\")"
   ]
  },
  {
   "cell_type": "code",
   "execution_count": 37,
   "metadata": {},
   "outputs": [],
   "source": [
    "df.to_excel('tugas1_putra.xlsx', index=False)"
   ]
  }
 ],
 "metadata": {
  "kernelspec": {
   "display_name": "Python 3",
   "language": "python",
   "name": "python3"
  },
  "language_info": {
   "codemirror_mode": {
    "name": "ipython",
    "version": 3
   },
   "file_extension": ".py",
   "mimetype": "text/x-python",
   "name": "python",
   "nbconvert_exporter": "python",
   "pygments_lexer": "ipython3",
   "version": "3.12.0"
  }
 },
 "nbformat": 4,
 "nbformat_minor": 2
}
