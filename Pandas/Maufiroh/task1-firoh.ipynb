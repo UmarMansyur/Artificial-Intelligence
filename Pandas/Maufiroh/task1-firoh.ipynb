{
 "cells": [
  {
   "cell_type": "code",
   "execution_count": 1,
   "metadata": {},
   "outputs": [
    {
     "name": "stdout",
     "output_type": "stream",
     "text": [
      "pip 23.0.1 from c:\\Program Files\\Python310\\lib\\site-packages\\pip (python 3.10)\n",
      "\n",
      "Note: you may need to restart the kernel to use updated packages.\n"
     ]
    }
   ],
   "source": [
    "pip --version"
   ]
  },
  {
   "cell_type": "code",
   "execution_count": 2,
   "metadata": {},
   "outputs": [],
   "source": [
    "import pandas as pd"
   ]
  },
  {
   "cell_type": "markdown",
   "metadata": {},
   "source": [
    "Umar adalah seorang guru informatika di Madrasah Aliyah Al-Ghazali. Umar kebingungan untuk menentukan peringkat dari masing masing siswanya. Sehingga umar berinisiatif untuk menggunakan python dan mengimplementasikan library pandas yang ia pelajari di kampusnya. adapun data yang ia miliki adalah sebagai berikut:"
   ]
  },
  {
   "cell_type": "code",
   "execution_count": 3,
   "metadata": {},
   "outputs": [
    {
     "data": {
      "text/html": [
       "<div>\n",
       "<style scoped>\n",
       "    .dataframe tbody tr th:only-of-type {\n",
       "        vertical-align: middle;\n",
       "    }\n",
       "\n",
       "    .dataframe tbody tr th {\n",
       "        vertical-align: top;\n",
       "    }\n",
       "\n",
       "    .dataframe thead th {\n",
       "        text-align: right;\n",
       "    }\n",
       "</style>\n",
       "<table border=\"1\" class=\"dataframe\">\n",
       "  <thead>\n",
       "    <tr style=\"text-align: right;\">\n",
       "      <th></th>\n",
       "      <th>Nama</th>\n",
       "      <th>Nilai Formatif</th>\n",
       "      <th>Nilai UTS</th>\n",
       "      <th>Nilai UAS</th>\n",
       "      <th>Nilai Akhir</th>\n",
       "    </tr>\n",
       "  </thead>\n",
       "  <tbody>\n",
       "    <tr>\n",
       "      <th>0</th>\n",
       "      <td>Andi</td>\n",
       "      <td>80</td>\n",
       "      <td>70</td>\n",
       "      <td>90</td>\n",
       "      <td>81.0</td>\n",
       "    </tr>\n",
       "    <tr>\n",
       "      <th>1</th>\n",
       "      <td>Budi</td>\n",
       "      <td>90</td>\n",
       "      <td>80</td>\n",
       "      <td>70</td>\n",
       "      <td>79.0</td>\n",
       "    </tr>\n",
       "    <tr>\n",
       "      <th>2</th>\n",
       "      <td>Caca</td>\n",
       "      <td>70</td>\n",
       "      <td>90</td>\n",
       "      <td>80</td>\n",
       "      <td>80.0</td>\n",
       "    </tr>\n",
       "    <tr>\n",
       "      <th>3</th>\n",
       "      <td>Dedi</td>\n",
       "      <td>60</td>\n",
       "      <td>80</td>\n",
       "      <td>90</td>\n",
       "      <td>78.0</td>\n",
       "    </tr>\n",
       "    <tr>\n",
       "      <th>4</th>\n",
       "      <td>Euis</td>\n",
       "      <td>50</td>\n",
       "      <td>70</td>\n",
       "      <td>80</td>\n",
       "      <td>68.0</td>\n",
       "    </tr>\n",
       "    <tr>\n",
       "      <th>5</th>\n",
       "      <td>Fafa</td>\n",
       "      <td>40</td>\n",
       "      <td>60</td>\n",
       "      <td>70</td>\n",
       "      <td>58.0</td>\n",
       "    </tr>\n",
       "    <tr>\n",
       "      <th>6</th>\n",
       "      <td>Gigi</td>\n",
       "      <td>30</td>\n",
       "      <td>50</td>\n",
       "      <td>60</td>\n",
       "      <td>48.0</td>\n",
       "    </tr>\n",
       "    <tr>\n",
       "      <th>7</th>\n",
       "      <td>Haha</td>\n",
       "      <td>20</td>\n",
       "      <td>40</td>\n",
       "      <td>50</td>\n",
       "      <td>38.0</td>\n",
       "    </tr>\n",
       "    <tr>\n",
       "      <th>8</th>\n",
       "      <td>Iwan</td>\n",
       "      <td>10</td>\n",
       "      <td>30</td>\n",
       "      <td>40</td>\n",
       "      <td>28.0</td>\n",
       "    </tr>\n",
       "    <tr>\n",
       "      <th>9</th>\n",
       "      <td>Joko</td>\n",
       "      <td>0</td>\n",
       "      <td>20</td>\n",
       "      <td>30</td>\n",
       "      <td>18.0</td>\n",
       "    </tr>\n",
       "    <tr>\n",
       "      <th>10</th>\n",
       "      <td>Riyan</td>\n",
       "      <td>98</td>\n",
       "      <td>70</td>\n",
       "      <td>60</td>\n",
       "      <td>74.4</td>\n",
       "    </tr>\n",
       "    <tr>\n",
       "      <th>11</th>\n",
       "      <td>Alfin</td>\n",
       "      <td>80</td>\n",
       "      <td>70</td>\n",
       "      <td>90</td>\n",
       "      <td>81.0</td>\n",
       "    </tr>\n",
       "    <tr>\n",
       "      <th>12</th>\n",
       "      <td>Rizky</td>\n",
       "      <td>90</td>\n",
       "      <td>80</td>\n",
       "      <td>70</td>\n",
       "      <td>79.0</td>\n",
       "    </tr>\n",
       "    <tr>\n",
       "      <th>13</th>\n",
       "      <td>Rizal</td>\n",
       "      <td>70</td>\n",
       "      <td>90</td>\n",
       "      <td>80</td>\n",
       "      <td>80.0</td>\n",
       "    </tr>\n",
       "    <tr>\n",
       "      <th>14</th>\n",
       "      <td>Maulana</td>\n",
       "      <td>60</td>\n",
       "      <td>80</td>\n",
       "      <td>90</td>\n",
       "      <td>78.0</td>\n",
       "    </tr>\n",
       "  </tbody>\n",
       "</table>\n",
       "</div>"
      ],
      "text/plain": [
       "       Nama  Nilai Formatif  Nilai UTS  Nilai UAS  Nilai Akhir\n",
       "0      Andi              80         70         90         81.0\n",
       "1      Budi              90         80         70         79.0\n",
       "2      Caca              70         90         80         80.0\n",
       "3      Dedi              60         80         90         78.0\n",
       "4      Euis              50         70         80         68.0\n",
       "5      Fafa              40         60         70         58.0\n",
       "6      Gigi              30         50         60         48.0\n",
       "7      Haha              20         40         50         38.0\n",
       "8      Iwan              10         30         40         28.0\n",
       "9      Joko               0         20         30         18.0\n",
       "10    Riyan              98         70         60         74.4\n",
       "11    Alfin              80         70         90         81.0\n",
       "12    Rizky              90         80         70         79.0\n",
       "13    Rizal              70         90         80         80.0\n",
       "14  Maulana              60         80         90         78.0"
      ]
     },
     "execution_count": 3,
     "metadata": {},
     "output_type": "execute_result"
    }
   ],
   "source": [
    "df = pd.DataFrame({\n",
    "    \"Nama\": [\"Andi\",\"Budi\",\"Caca\",\"Dedi\",\"Euis\",\"Fafa\",\"Gigi\",\"Haha\",\"Iwan\",\"Joko\",\"Riyan\",\"Alfin\",\"Rizky\",\"Rizal\",\"Maulana\"],\n",
    "    \"Nilai Formatif\": [80,90,70,60,50,40,30,20,10,0,98,80,90,70,60],\n",
    "    \"Nilai UTS\": [70,80,90,80,70,60,50,40,30,20,70,70,80,90,80],\n",
    "    \"Nilai UAS\": [90,70,80,90,80,70,60,50,40,30,60,90,70,80,90]\n",
    "})\n",
    "\n",
    "df[\"Nilai Akhir\"] = 0.3 * df[\"Nilai Formatif\"] + 0.3 * df[\"Nilai UTS\"] + 0.4 * df[\"Nilai UAS\"]\n",
    "\n",
    "df"
   ]
  },
  {
   "cell_type": "markdown",
   "metadata": {},
   "source": [
    "1. Tentukan 5 peringkat terbawah dan teratas!"
   ]
  },
  {
   "cell_type": "code",
   "execution_count": 11,
   "metadata": {},
   "outputs": [
    {
     "name": "stdout",
     "output_type": "stream",
     "text": [
      "5 peringkat teratas:\n",
      "     Nama  Nilai Formatif  Nilai UTS  Nilai UAS  Nilai Akhir\n",
      "0    Andi              80         70         90         81.0\n",
      "11  Alfin              80         70         90         81.0\n",
      "2    Caca              70         90         80         80.0\n",
      "13  Rizal              70         90         80         80.0\n",
      "1    Budi              90         80         70         79.0\n",
      "\n",
      "5 peringkat terbawah:\n",
      "   Nama  Nilai Formatif  Nilai UTS  Nilai UAS  Nilai Akhir\n",
      "9  Joko               0         20         30         18.0\n",
      "8  Iwan              10         30         40         28.0\n",
      "7  Haha              20         40         50         38.0\n",
      "6  Gigi              30         50         60         48.0\n",
      "5  Fafa              40         60         70         58.0\n"
     ]
    }
   ],
   "source": [
    "teratas = df.sort_values(by=\"Nilai Akhir\", ascending=False).head(5)\n",
    "\n",
    "terbawah = df.sort_values(by=\"Nilai Akhir\").head(5)\n",
    "\n",
    "\n",
    "print(\"5 peringkat teratas:\")\n",
    "print(teratas)\n",
    "\n",
    "print(\"\\n5 peringkat terbawah:\")\n",
    "print(terbawah)"
   ]
  },
  {
   "cell_type": "markdown",
   "metadata": {},
   "source": [
    "2. Tentukan nilai rata-rata dari masing-masing siswa!"
   ]
  },
  {
   "cell_type": "code",
   "execution_count": 12,
   "metadata": {},
   "outputs": [
    {
     "name": "stdout",
     "output_type": "stream",
     "text": [
      "       Nama  Rata-rata\n",
      "0      Andi  80.000000\n",
      "1      Budi  80.000000\n",
      "2      Caca  80.000000\n",
      "3      Dedi  76.666667\n",
      "4      Euis  66.666667\n",
      "5      Fafa  56.666667\n",
      "6      Gigi  46.666667\n",
      "7      Haha  36.666667\n",
      "8      Iwan  26.666667\n",
      "9      Joko  16.666667\n",
      "10    Riyan  76.000000\n",
      "11    Alfin  80.000000\n",
      "12    Rizky  80.000000\n",
      "13    Rizal  80.000000\n",
      "14  Maulana  76.666667\n"
     ]
    }
   ],
   "source": [
    "df['Rata-rata'] = df[['Nilai Formatif', 'Nilai UTS', 'Nilai UAS']].mean(axis=1)\n",
    "\n",
    "print(df[['Nama', 'Rata-rata']])"
   ]
  },
  {
   "cell_type": "markdown",
   "metadata": {},
   "source": [
    "3. Tentukan nilai rata-rata dari masing-masing ujian!"
   ]
  },
  {
   "cell_type": "code",
   "execution_count": 20,
   "metadata": {},
   "outputs": [
    {
     "name": "stdout",
     "output_type": "stream",
     "text": [
      "Rata-rata Nilai Formatif: 56.53333333333333\n",
      "Rata-rata Nilai UTS: 65.33333333333333\n",
      "Rata-rata Nilai UAS: 70.0\n"
     ]
    }
   ],
   "source": [
    "formatif = df['Nilai Formatif'].mean()\n",
    "uts = df['Nilai UTS'].mean()\n",
    "uas = df['Nilai UAS'].mean()\n",
    "\n",
    "print(\"Rata-rata Nilai Formatif:\", formatif)\n",
    "print(\"Rata-rata Nilai UTS:\", uts)\n",
    "print(\"Rata-rata Nilai UAS:\", uas)\n"
   ]
  },
  {
   "cell_type": "markdown",
   "metadata": {},
   "source": [
    "4. Siapakah siswa yang memiliki nilai akhir tertinggi dan terendah."
   ]
  },
  {
   "cell_type": "code",
   "execution_count": 19,
   "metadata": {},
   "outputs": [
    {
     "name": "stdout",
     "output_type": "stream",
     "text": [
      "Siswa dengan Nilai Akhir Tertinggi:\n",
      "   Nama  Nilai Formatif  Nilai UTS  Nilai UAS  Nilai Akhir  Rata-rata\n",
      "0  Andi              80         70         90         81.0       80.0\n",
      "\n",
      "Siswa dengan Nilai Akhir Terendah:\n",
      "   Nama  Nilai Formatif  Nilai UTS  Nilai UAS  Nilai Akhir  Rata-rata\n",
      "9  Joko               0         20         30         18.0  16.666667\n"
     ]
    }
   ],
   "source": [
    "df_sorted = df.sort_values(by=\"Nilai Akhir\", ascending=False)\n",
    "\n",
    "tertinggi = df_sorted.head(1)\n",
    "terendah = df_sorted.tail(1)\n",
    "\n",
    "print(\"Siswa dengan Nilai Akhir Tertinggi:\")\n",
    "print(tertinggi)\n",
    "\n",
    "print(\"\\nSiswa dengan Nilai Akhir Terendah:\")\n",
    "print(terendah)\n"
   ]
  },
  {
   "cell_type": "markdown",
   "metadata": {},
   "source": [
    "5. Tampilkan siswa yang memiliki nilai akhir yang sama."
   ]
  },
  {
   "cell_type": "code",
   "execution_count": 18,
   "metadata": {},
   "outputs": [
    {
     "name": "stdout",
     "output_type": "stream",
     "text": [
      "Nilai Akhir: 78.0\n",
      "       Nama  Nilai Akhir\n",
      "3      Dedi         78.0\n",
      "14  Maulana         78.0\n",
      "Nilai Akhir: 79.0\n",
      "     Nama  Nilai Akhir\n",
      "1    Budi         79.0\n",
      "12  Rizky         79.0\n",
      "Nilai Akhir: 80.0\n",
      "     Nama  Nilai Akhir\n",
      "2    Caca         80.0\n",
      "13  Rizal         80.0\n",
      "Nilai Akhir: 81.0\n",
      "     Nama  Nilai Akhir\n",
      "0    Andi         81.0\n",
      "11  Alfin         81.0\n"
     ]
    }
   ],
   "source": [
    "nilai = df.groupby('Nilai Akhir')\n",
    "\n",
    "for nilai_akhir, siswa in nilai:\n",
    "    if len(siswa) > 1:\n",
    "        print(\"Nilai Akhir:\", nilai_akhir)\n",
    "        print(siswa[['Nama', 'Nilai Akhir']])"
   ]
  },
  {
   "cell_type": "markdown",
   "metadata": {},
   "source": [
    "6. Tampilkan siswa yang memiliki nilai akhir lebih dari 80."
   ]
  },
  {
   "cell_type": "code",
   "execution_count": 17,
   "metadata": {},
   "outputs": [
    {
     "name": "stdout",
     "output_type": "stream",
     "text": [
      "Siswa dengan Nilai Akhir Lebih dari 80:\n",
      "     Nama  Nilai Formatif  Nilai UTS  Nilai UAS  Nilai Akhir  Rata-rata\n",
      "0    Andi              80         70         90         81.0       80.0\n",
      "11  Alfin              80         70         90         81.0       80.0\n"
     ]
    }
   ],
   "source": [
    "nilai = df[df['Nilai Akhir'] > 80]\n",
    "print(\"Siswa dengan Nilai Akhir Lebih dari 80:\")\n",
    "print(nilai)"
   ]
  },
  {
   "cell_type": "markdown",
   "metadata": {},
   "source": [
    "7. Berikan peringkat pada masing-masing siswa berdasarkan nilai akhirnya dan tampilkan dalam bentuk dataframe!"
   ]
  },
  {
   "cell_type": "code",
   "execution_count": 21,
   "metadata": {},
   "outputs": [
    {
     "name": "stdout",
     "output_type": "stream",
     "text": [
      "       Nama  Nilai Formatif  Nilai UTS  Nilai UAS  Nilai Akhir  Rata-rata  \\\n",
      "0      Andi              80         70         90         81.0  80.000000   \n",
      "11    Alfin              80         70         90         81.0  80.000000   \n",
      "2      Caca              70         90         80         80.0  80.000000   \n",
      "13    Rizal              70         90         80         80.0  80.000000   \n",
      "1      Budi              90         80         70         79.0  80.000000   \n",
      "12    Rizky              90         80         70         79.0  80.000000   \n",
      "3      Dedi              60         80         90         78.0  76.666667   \n",
      "14  Maulana              60         80         90         78.0  76.666667   \n",
      "10    Riyan              98         70         60         74.4  76.000000   \n",
      "4      Euis              50         70         80         68.0  66.666667   \n",
      "5      Fafa              40         60         70         58.0  56.666667   \n",
      "6      Gigi              30         50         60         48.0  46.666667   \n",
      "7      Haha              20         40         50         38.0  36.666667   \n",
      "8      Iwan              10         30         40         28.0  26.666667   \n",
      "9      Joko               0         20         30         18.0  16.666667   \n",
      "\n",
      "    Peringkat  \n",
      "0           1  \n",
      "11          2  \n",
      "2           3  \n",
      "13          4  \n",
      "1           5  \n",
      "12          6  \n",
      "3           7  \n",
      "14          8  \n",
      "10          9  \n",
      "4          10  \n",
      "5          11  \n",
      "6          12  \n",
      "7          13  \n",
      "8          14  \n",
      "9          15  \n"
     ]
    }
   ],
   "source": [
    "df_sorted = df.sort_values(by=\"Nilai Akhir\", ascending=False)\n",
    "\n",
    "df_sorted['Peringkat'] = range(1, len(df_sorted) + 1)\n",
    "\n",
    "print(df_sorted)"
   ]
  },
  {
   "cell_type": "markdown",
   "metadata": {},
   "source": [
    "8. Export hasilnya kedalam bentuk excel!"
   ]
  },
  {
   "cell_type": "code",
   "execution_count": 4,
   "metadata": {},
   "outputs": [
    {
     "name": "stdout",
     "output_type": "stream",
     "text": [
      "Defaulting to user installation because normal site-packages is not writeable\n",
      "Requirement already satisfied: pandas in c:\\users\\windows 10\\appdata\\roaming\\python\\python310\\site-packages (2.1.2)\n",
      "Collecting openpyxl\n",
      "  Downloading openpyxl-3.1.2-py2.py3-none-any.whl (249 kB)\n",
      "     ---------------------------------------- 0.0/250.0 kB ? eta -:--:--\n",
      "     ----------------------- -------------- 153.6/250.0 kB 4.6 MB/s eta 0:00:01\n",
      "     -------------------------------------- 250.0/250.0 kB 2.6 MB/s eta 0:00:00\n",
      "Requirement already satisfied: numpy<2,>=1.22.4 in c:\\users\\windows 10\\appdata\\roaming\\python\\python310\\site-packages (from pandas) (1.26.1)\n",
      "Requirement already satisfied: pytz>=2020.1 in c:\\users\\windows 10\\appdata\\roaming\\python\\python310\\site-packages (from pandas) (2023.3.post1)\n",
      "Requirement already satisfied: python-dateutil>=2.8.2 in c:\\users\\windows 10\\appdata\\roaming\\python\\python310\\site-packages (from pandas) (2.8.2)\n",
      "Requirement already satisfied: tzdata>=2022.1 in c:\\users\\windows 10\\appdata\\roaming\\python\\python310\\site-packages (from pandas) (2023.3)\n",
      "Collecting et-xmlfile\n",
      "  Downloading et_xmlfile-1.1.0-py3-none-any.whl (4.7 kB)\n",
      "Requirement already satisfied: six>=1.5 in c:\\users\\windows 10\\appdata\\roaming\\python\\python310\\site-packages (from python-dateutil>=2.8.2->pandas) (1.16.0)\n",
      "Installing collected packages: et-xmlfile, openpyxl\n",
      "Successfully installed et-xmlfile-1.1.0 openpyxl-3.1.2\n",
      "Note: you may need to restart the kernel to use updated packages.\n"
     ]
    },
    {
     "name": "stderr",
     "output_type": "stream",
     "text": [
      "\n",
      "[notice] A new release of pip is available: 23.0.1 -> 23.3.1\n",
      "[notice] To update, run: python.exe -m pip install --upgrade pip\n"
     ]
    }
   ],
   "source": [
    "pip install pandas openpyxl"
   ]
  },
  {
   "cell_type": "code",
   "execution_count": 23,
   "metadata": {},
   "outputs": [
    {
     "name": "stdout",
     "output_type": "stream",
     "text": [
      "Data telah diekspor ke hasil_peringkat.xlsx\n"
     ]
    }
   ],
   "source": [
    "df_sorted = df.sort_values(by=\"Nilai Akhir\", ascending=False)\n",
    "\n",
    "df_sorted['Peringkat'] = range(1, len(df_sorted) + 1)\n",
    "\n",
    "df_sorted.to_excel(\"hasil_peringkat.xlsx\", index=False) \n",
    "\n",
    "print(\"Data telah diekspor ke hasil_peringkat.xlsx\")"
   ]
  }
 ],
 "metadata": {
  "kernelspec": {
   "display_name": "Python 3",
   "language": "python",
   "name": "python3"
  },
  "language_info": {
   "codemirror_mode": {
    "name": "ipython",
    "version": 3
   },
   "file_extension": ".py",
   "mimetype": "text/x-python",
   "name": "python",
   "nbconvert_exporter": "python",
   "pygments_lexer": "ipython3",
   "version": "3.10.11"
  }
 },
 "nbformat": 4,
 "nbformat_minor": 2
}
