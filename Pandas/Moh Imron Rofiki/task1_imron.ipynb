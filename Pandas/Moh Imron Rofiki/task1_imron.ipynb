{
 "cells": [
  {
   "cell_type": "code",
   "execution_count": 23,
   "metadata": {},
   "outputs": [
    {
     "name": "stdout",
     "output_type": "stream",
     "text": [
      "pip 23.3 from c:\\Users\\Lenovo\\AppData\\Local\\Programs\\Python\\Python310\\lib\\site-packages\\pip (python 3.10)\n",
      "\n",
      "Note: you may need to restart the kernel to use updated packages.\n"
     ]
    }
   ],
   "source": [
    "pip --version"
   ]
  },
  {
   "cell_type": "code",
   "execution_count": 24,
   "metadata": {},
   "outputs": [],
   "source": [
    "import pandas as pd"
   ]
  },
  {
   "cell_type": "code",
   "execution_count": 21,
   "metadata": {},
   "outputs": [
    {
     "data": {
      "text/html": [
       "<div>\n",
       "<style scoped>\n",
       "    .dataframe tbody tr th:only-of-type {\n",
       "        vertical-align: middle;\n",
       "    }\n",
       "\n",
       "    .dataframe tbody tr th {\n",
       "        vertical-align: top;\n",
       "    }\n",
       "\n",
       "    .dataframe thead th {\n",
       "        text-align: right;\n",
       "    }\n",
       "</style>\n",
       "<table border=\"1\" class=\"dataframe\">\n",
       "  <thead>\n",
       "    <tr style=\"text-align: right;\">\n",
       "      <th></th>\n",
       "      <th>Nama</th>\n",
       "      <th>Nilai Formatif</th>\n",
       "      <th>Nilai UTS</th>\n",
       "      <th>Nilai UAS</th>\n",
       "      <th>Nilai Akhir</th>\n",
       "    </tr>\n",
       "  </thead>\n",
       "  <tbody>\n",
       "    <tr>\n",
       "      <th>0</th>\n",
       "      <td>Andi</td>\n",
       "      <td>80</td>\n",
       "      <td>70</td>\n",
       "      <td>90</td>\n",
       "      <td>81.0</td>\n",
       "    </tr>\n",
       "    <tr>\n",
       "      <th>1</th>\n",
       "      <td>Budi</td>\n",
       "      <td>90</td>\n",
       "      <td>80</td>\n",
       "      <td>70</td>\n",
       "      <td>79.0</td>\n",
       "    </tr>\n",
       "    <tr>\n",
       "      <th>2</th>\n",
       "      <td>Caca</td>\n",
       "      <td>70</td>\n",
       "      <td>90</td>\n",
       "      <td>80</td>\n",
       "      <td>80.0</td>\n",
       "    </tr>\n",
       "    <tr>\n",
       "      <th>3</th>\n",
       "      <td>Dedi</td>\n",
       "      <td>60</td>\n",
       "      <td>80</td>\n",
       "      <td>90</td>\n",
       "      <td>78.0</td>\n",
       "    </tr>\n",
       "    <tr>\n",
       "      <th>4</th>\n",
       "      <td>Euis</td>\n",
       "      <td>50</td>\n",
       "      <td>70</td>\n",
       "      <td>80</td>\n",
       "      <td>68.0</td>\n",
       "    </tr>\n",
       "    <tr>\n",
       "      <th>5</th>\n",
       "      <td>Fafa</td>\n",
       "      <td>40</td>\n",
       "      <td>60</td>\n",
       "      <td>70</td>\n",
       "      <td>58.0</td>\n",
       "    </tr>\n",
       "    <tr>\n",
       "      <th>6</th>\n",
       "      <td>Gigi</td>\n",
       "      <td>30</td>\n",
       "      <td>50</td>\n",
       "      <td>60</td>\n",
       "      <td>48.0</td>\n",
       "    </tr>\n",
       "    <tr>\n",
       "      <th>7</th>\n",
       "      <td>Haha</td>\n",
       "      <td>20</td>\n",
       "      <td>40</td>\n",
       "      <td>50</td>\n",
       "      <td>38.0</td>\n",
       "    </tr>\n",
       "    <tr>\n",
       "      <th>8</th>\n",
       "      <td>Iwan</td>\n",
       "      <td>10</td>\n",
       "      <td>30</td>\n",
       "      <td>40</td>\n",
       "      <td>28.0</td>\n",
       "    </tr>\n",
       "    <tr>\n",
       "      <th>9</th>\n",
       "      <td>Joko</td>\n",
       "      <td>0</td>\n",
       "      <td>20</td>\n",
       "      <td>30</td>\n",
       "      <td>18.0</td>\n",
       "    </tr>\n",
       "    <tr>\n",
       "      <th>10</th>\n",
       "      <td>Riyan</td>\n",
       "      <td>98</td>\n",
       "      <td>70</td>\n",
       "      <td>60</td>\n",
       "      <td>74.4</td>\n",
       "    </tr>\n",
       "    <tr>\n",
       "      <th>11</th>\n",
       "      <td>Alfin</td>\n",
       "      <td>80</td>\n",
       "      <td>70</td>\n",
       "      <td>90</td>\n",
       "      <td>81.0</td>\n",
       "    </tr>\n",
       "    <tr>\n",
       "      <th>12</th>\n",
       "      <td>Rizky</td>\n",
       "      <td>90</td>\n",
       "      <td>80</td>\n",
       "      <td>70</td>\n",
       "      <td>79.0</td>\n",
       "    </tr>\n",
       "    <tr>\n",
       "      <th>13</th>\n",
       "      <td>Rizal</td>\n",
       "      <td>70</td>\n",
       "      <td>90</td>\n",
       "      <td>80</td>\n",
       "      <td>80.0</td>\n",
       "    </tr>\n",
       "    <tr>\n",
       "      <th>14</th>\n",
       "      <td>Maulana</td>\n",
       "      <td>60</td>\n",
       "      <td>80</td>\n",
       "      <td>90</td>\n",
       "      <td>78.0</td>\n",
       "    </tr>\n",
       "  </tbody>\n",
       "</table>\n",
       "</div>"
      ],
      "text/plain": [
       "       Nama  Nilai Formatif  Nilai UTS  Nilai UAS  Nilai Akhir\n",
       "0      Andi              80         70         90         81.0\n",
       "1      Budi              90         80         70         79.0\n",
       "2      Caca              70         90         80         80.0\n",
       "3      Dedi              60         80         90         78.0\n",
       "4      Euis              50         70         80         68.0\n",
       "5      Fafa              40         60         70         58.0\n",
       "6      Gigi              30         50         60         48.0\n",
       "7      Haha              20         40         50         38.0\n",
       "8      Iwan              10         30         40         28.0\n",
       "9      Joko               0         20         30         18.0\n",
       "10    Riyan              98         70         60         74.4\n",
       "11    Alfin              80         70         90         81.0\n",
       "12    Rizky              90         80         70         79.0\n",
       "13    Rizal              70         90         80         80.0\n",
       "14  Maulana              60         80         90         78.0"
      ]
     },
     "execution_count": 21,
     "metadata": {},
     "output_type": "execute_result"
    }
   ],
   "source": [
    "data = {\n",
    "    \"Nama\": [\"Andi\", \"Budi\", \"Caca\", \"Dedi\", \"Euis\", \"Fafa\", \"Gigi\", \"Haha\", \"Iwan\", \"Joko\", \"Riyan\", \"Alfin\", \"Rizky\", \"Rizal\", \"Maulana\"],\n",
    "    \"Nilai Formatif\": [80, 90, 70, 60, 50, 40, 30, 20, 10, 0, 98, 80, 90, 70, 60],\n",
    "    \"Nilai UTS\": [70, 80, 90, 80, 70, 60, 50, 40, 30, 20, 70, 70, 80, 90, 80],\n",
    "    \"Nilai UAS\": [90, 70, 80, 90, 80, 70, 60, 50, 40, 30, 60, 90, 70, 80, 90]\n",
    "}\n",
    "\n",
    "df = pd.DataFrame(data)\n",
    "\n",
    "df['Nilai Akhir'] = df['Nilai Formatif'] * 0.3 + df['Nilai UTS'] * 0.3 + df['Nilai UAS'] * 0.4\n",
    "df"
   ]
  },
  {
   "cell_type": "code",
   "execution_count": 33,
   "metadata": {},
   "outputs": [
    {
     "name": "stdout",
     "output_type": "stream",
     "text": [
      "Peringkat Terbawah:\n",
      "   Nama  Nilai Formatif  Nilai UTS  Nilai UAS  Nilai Akhir  Rata-rata  \\\n",
      "9  Joko               0         20         30         18.0  16.666667   \n",
      "8  Iwan              10         30         40         28.0  26.666667   \n",
      "7  Haha              20         40         50         38.0  36.666667   \n",
      "6  Gigi              30         50         60         48.0  46.666667   \n",
      "5  Fafa              40         60         70         58.0  56.666667   \n",
      "\n",
      "   Peringkat  \n",
      "9         15  \n",
      "8         14  \n",
      "7         13  \n",
      "6         12  \n",
      "5         11  \n",
      "\n",
      "Peringkat Teratas:\n",
      "     Nama  Nilai Formatif  Nilai UTS  Nilai UAS  Nilai Akhir  Rata-rata  \\\n",
      "0    Andi              80         70         90         81.0       80.0   \n",
      "11  Alfin              80         70         90         81.0       80.0   \n",
      "2    Caca              70         90         80         80.0       80.0   \n",
      "13  Rizal              70         90         80         80.0       80.0   \n",
      "1    Budi              90         80         70         79.0       80.0   \n",
      "\n",
      "    Peringkat  \n",
      "0           1  \n",
      "11          1  \n",
      "2           3  \n",
      "13          3  \n",
      "1           5  \n"
     ]
    }
   ],
   "source": [
    "\n",
    "# 1. Tentukan 5 peringkat terbawah dan teratas!\n",
    "peringkat_terbawah = df.sort_values(by='Nilai Akhir').head(5)\n",
    "peringkat_teratas = df.sort_values(by='Nilai Akhir', ascending=False).head(5)\n",
    "\n",
    "print(\"Peringkat Terbawah:\")\n",
    "print(peringkat_terbawah)\n",
    "print(\"\\nPeringkat Teratas:\")\n",
    "print(peringkat_teratas)"
   ]
  },
  {
   "cell_type": "code",
   "execution_count": 34,
   "metadata": {},
   "outputs": [
    {
     "name": "stdout",
     "output_type": "stream",
     "text": [
      "       Nama  Rata-rata\n",
      "0      Andi  80.000000\n",
      "11    Alfin  80.000000\n",
      "2      Caca  80.000000\n",
      "13    Rizal  80.000000\n",
      "1      Budi  80.000000\n",
      "12    Rizky  80.000000\n",
      "3      Dedi  76.666667\n",
      "14  Maulana  76.666667\n",
      "10    Riyan  76.000000\n",
      "4      Euis  66.666667\n",
      "5      Fafa  56.666667\n",
      "6      Gigi  46.666667\n",
      "7      Haha  36.666667\n",
      "8      Iwan  26.666667\n",
      "9      Joko  16.666667\n"
     ]
    }
   ],
   "source": [
    "# 2. Tentukan nilai rata-rata dari masing-masing siswa!\n",
    "df['Rata-rata'] = df[['Nilai Formatif', 'Nilai UTS', 'Nilai UAS']].mean(axis=1)\n",
    "\n",
    "print(df[['Nama', 'Rata-rata']])"
   ]
  },
  {
   "cell_type": "code",
   "execution_count": 35,
   "metadata": {},
   "outputs": [
    {
     "name": "stdout",
     "output_type": "stream",
     "text": [
      "Nilai Rata-rata Masing-masing Ujian:\n",
      "Nilai Formatif    56.533333\n",
      "Nilai UTS         65.333333\n",
      "Nilai UAS         70.000000\n",
      "dtype: float64\n"
     ]
    }
   ],
   "source": [
    "# 3. Tentukan nilai rata-rata dari masing-masing ujian!\n",
    "rata_rata_ujian = df[['Nilai Formatif', 'Nilai UTS', 'Nilai UAS']].mean()\n",
    "\n",
    "print(\"Nilai Rata-rata Masing-masing Ujian:\")\n",
    "print(rata_rata_ujian)"
   ]
  },
  {
   "cell_type": "code",
   "execution_count": 36,
   "metadata": {},
   "outputs": [
    {
     "name": "stdout",
     "output_type": "stream",
     "text": [
      "Siswa dengan Nilai Akhir Tertinggi:\n",
      "Nama              Andi\n",
      "Nilai Formatif      80\n",
      "Nilai UTS           70\n",
      "Nilai UAS           90\n",
      "Nilai Akhir       81.0\n",
      "Rata-rata         80.0\n",
      "Peringkat            1\n",
      "Name: 0, dtype: object\n",
      "\n",
      "Siswa dengan Nilai Akhir Terendah:\n",
      "Nama                   Joko\n",
      "Nilai Formatif            0\n",
      "Nilai UTS                20\n",
      "Nilai UAS                30\n",
      "Nilai Akhir            18.0\n",
      "Rata-rata         16.666667\n",
      "Peringkat                15\n",
      "Name: 9, dtype: object\n"
     ]
    }
   ],
   "source": [
    "# 4. Siapakah siswa yang memiliki nilai akhir tertinggi dan terendah.\n",
    "siswa_tertinggi = df.loc[df['Nilai Akhir'].idxmax()]\n",
    "siswa_terendah = df.loc[df['Nilai Akhir'].idxmin()]\n",
    "\n",
    "print(\"Siswa dengan Nilai Akhir Tertinggi:\")\n",
    "print(siswa_tertinggi)\n",
    "print(\"\\nSiswa dengan Nilai Akhir Terendah:\")\n",
    "print(siswa_terendah)"
   ]
  },
  {
   "cell_type": "code",
   "execution_count": 37,
   "metadata": {},
   "outputs": [
    {
     "name": "stdout",
     "output_type": "stream",
     "text": [
      "\n",
      "Siswa dengan Nilai Akhir 78.0:\n",
      "       Nama  Nilai Akhir\n",
      "3      Dedi         78.0\n",
      "14  Maulana         78.0\n",
      "\n",
      "Siswa dengan Nilai Akhir 79.0:\n",
      "     Nama  Nilai Akhir\n",
      "1    Budi         79.0\n",
      "12  Rizky         79.0\n",
      "\n",
      "Siswa dengan Nilai Akhir 80.0:\n",
      "     Nama  Nilai Akhir\n",
      "2    Caca         80.0\n",
      "13  Rizal         80.0\n",
      "\n",
      "Siswa dengan Nilai Akhir 81.0:\n",
      "     Nama  Nilai Akhir\n",
      "0    Andi         81.0\n",
      "11  Alfin         81.0\n"
     ]
    }
   ],
   "source": [
    "# 5. Tampilkan siswa yang memiliki nilai akhir yang sama.\n",
    "siswa_nilai_sama = df[df.duplicated(subset=['Nilai Akhir'], keep=False)]\n",
    "siswa_nilai_sama = siswa_nilai_sama.sort_values(by='Nilai Akhir', ascending=False)\n",
    "nilai_akhir_groups = siswa_nilai_sama.groupby('Nilai Akhir')\n",
    "\n",
    "for nilai_akhir, group in nilai_akhir_groups:\n",
    "    print(f\"\\nSiswa dengan Nilai Akhir {nilai_akhir}:\")\n",
    "    print(group[['Nama', 'Nilai Akhir']])\n"
   ]
  },
  {
   "cell_type": "code",
   "execution_count": 38,
   "metadata": {},
   "outputs": [
    {
     "name": "stdout",
     "output_type": "stream",
     "text": [
      "Siswa dengan Nilai Akhir Lebih dari 80:\n",
      "     Nama  Nilai Formatif  Nilai UTS  Nilai UAS  Nilai Akhir  Rata-rata  \\\n",
      "0    Andi              80         70         90         81.0       80.0   \n",
      "11  Alfin              80         70         90         81.0       80.0   \n",
      "\n",
      "    Peringkat  \n",
      "0           1  \n",
      "11          1  \n"
     ]
    }
   ],
   "source": [
    "# 6. Tampilkan siswa yang memiliki nilai akhir lebih dari 80.\n",
    "siswa_lebih_dari_80 = df[df['Nilai Akhir'] > 80]\n",
    "\n",
    "print(\"Siswa dengan Nilai Akhir Lebih dari 80:\")\n",
    "print(siswa_lebih_dari_80)\n"
   ]
  },
  {
   "cell_type": "code",
   "execution_count": 39,
   "metadata": {},
   "outputs": [
    {
     "name": "stdout",
     "output_type": "stream",
     "text": [
      "       Nama  Peringkat  Nilai Akhir\n",
      "0      Andi          1         81.0\n",
      "11    Alfin          1         81.0\n",
      "2      Caca          3         80.0\n",
      "13    Rizal          3         80.0\n",
      "1      Budi          5         79.0\n",
      "12    Rizky          5         79.0\n",
      "3      Dedi          7         78.0\n",
      "14  Maulana          7         78.0\n",
      "10    Riyan          9         74.4\n",
      "4      Euis         10         68.0\n",
      "5      Fafa         11         58.0\n",
      "6      Gigi         12         48.0\n",
      "7      Haha         13         38.0\n",
      "8      Iwan         14         28.0\n",
      "9      Joko         15         18.0\n"
     ]
    }
   ],
   "source": [
    "# 7. Berikan peringkat pada masing-masing siswa berdasarkan nilai akhirnya dan tampilkan dalam bentuk dataframe!\n",
    "df['Nilai Akhir'] = df['Nilai Formatif'] * 0.3 + df['Nilai UTS'] * 0.3 + df['Nilai UAS'] * 0.4\n",
    "df['Peringkat'] = df['Nilai Akhir'].rank(ascending=False, method='min').astype(int)\n",
    "df = df.sort_values(by='Peringkat')\n",
    "\n",
    "print(df[['Nama', 'Peringkat', 'Nilai Akhir']])\n"
   ]
  },
  {
   "cell_type": "code",
   "execution_count": 40,
   "metadata": {},
   "outputs": [
    {
     "name": "stdout",
     "output_type": "stream",
     "text": [
      "Data telah diekspor ke hasil_nilai.xlsx\n"
     ]
    }
   ],
   "source": [
    "# 8. Export hasilnya kedalam bentuk excel!\n",
    "# Menghitung nilai akhir\n",
    "df['Nilai Akhir'] = df['Nilai Formatif'] * 0.3 + df['Nilai UTS'] * 0.3 + df['Nilai UAS'] * 0.4\n",
    "\n",
    "# Menambahkan kolom 'Peringkat' ke DataFrame dengan menggunakan method='min' dan konversi ke tipe int\n",
    "df['Peringkat'] = df['Nilai Akhir'].rank(ascending=False, method='min').astype(int)\n",
    "\n",
    "# Mengurutkan DataFrame berdasarkan kolom 'Peringkat'\n",
    "df = df.sort_values(by='Peringkat')\n",
    "\n",
    "# Menyimpan DataFrame ke dalam file Excel\n",
    "df.to_excel('hasil_nilai.xlsx', index=False)\n",
    "\n",
    "print(\"Data telah diekspor ke hasil_nilai.xlsx\")"
   ]
  }
 ],
 "metadata": {
  "kernelspec": {
   "display_name": "Python 3",
   "language": "python",
   "name": "python3"
  },
  "language_info": {
   "codemirror_mode": {
    "name": "ipython",
    "version": 3
   },
   "file_extension": ".py",
   "mimetype": "text/x-python",
   "name": "python",
   "nbconvert_exporter": "python",
   "pygments_lexer": "ipython3",
   "version": "3.10.11"
  }
 },
 "nbformat": 4,
 "nbformat_minor": 2
}
