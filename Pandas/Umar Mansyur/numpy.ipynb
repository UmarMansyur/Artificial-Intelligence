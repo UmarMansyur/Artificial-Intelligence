{
 "cells": [
  {
   "cell_type": "code",
   "execution_count": 5,
   "outputs": [],
   "source": [
    "import numpy as np"
   ],
   "metadata": {
    "collapsed": false,
    "ExecuteTime": {
     "end_time": "2023-10-30T04:35:07.115081Z",
     "start_time": "2023-10-30T04:35:07.101034Z"
    }
   },
   "id": "d1fe9b792307c469"
  },
  {
   "cell_type": "code",
   "execution_count": 38,
   "outputs": [
    {
     "data": {
      "text/plain": "array([17, 16, 15, 14, 13, 12, 11, 10, 10])"
     },
     "execution_count": 38,
     "metadata": {},
     "output_type": "execute_result"
    }
   ],
   "source": [
    "a = np.arange(10, 80)\n",
    "descending = a[7::-1]\n",
    "descending = np.append(descending, 10)\n",
    "descending\n",
    "\n",
    "# urutkan dari  \n",
    "\n",
    "# buatkan "
   ],
   "metadata": {
    "collapsed": false,
    "ExecuteTime": {
     "end_time": "2023-10-30T05:10:39.252929Z",
     "start_time": "2023-10-30T05:10:39.247804Z"
    }
   },
   "id": "a7164ba8137cdeee"
  },
  {
   "cell_type": "code",
   "execution_count": 34,
   "outputs": [
    {
     "data": {
      "text/plain": "array([17, 16, 15, 14, 13, 12, 11, 10])"
     },
     "execution_count": 34,
     "metadata": {},
     "output_type": "execute_result"
    }
   ],
   "source": [],
   "metadata": {
    "collapsed": false,
    "ExecuteTime": {
     "end_time": "2023-10-30T05:04:03.784Z",
     "start_time": "2023-10-30T05:04:03.773114Z"
    }
   },
   "id": "7656a87b43331281"
  },
  {
   "cell_type": "code",
   "execution_count": 6,
   "outputs": [],
   "source": [],
   "metadata": {
    "collapsed": false,
    "ExecuteTime": {
     "end_time": "2023-10-30T04:35:07.133007Z",
     "start_time": "2023-10-30T04:35:07.114461Z"
    }
   },
   "id": "67ce7b13ccdb4d82"
  },
  {
   "cell_type": "code",
   "execution_count": 6,
   "outputs": [],
   "source": [],
   "metadata": {
    "collapsed": false,
    "ExecuteTime": {
     "end_time": "2023-10-30T04:35:07.133692Z",
     "start_time": "2023-10-30T04:35:07.119819Z"
    }
   },
   "id": "ee8f36dc79c16064"
  },
  {
   "cell_type": "code",
   "execution_count": 6,
   "outputs": [],
   "source": [],
   "metadata": {
    "collapsed": false,
    "ExecuteTime": {
     "end_time": "2023-10-30T04:35:07.133999Z",
     "start_time": "2023-10-30T04:35:07.123491Z"
    }
   },
   "id": "d98543adedc63b83"
  },
  {
   "cell_type": "code",
   "execution_count": 6,
   "outputs": [],
   "source": [],
   "metadata": {
    "collapsed": false,
    "ExecuteTime": {
     "end_time": "2023-10-30T04:35:07.134405Z",
     "start_time": "2023-10-30T04:35:07.126949Z"
    }
   },
   "id": "dcdbbc4c722c16c2"
  },
  {
   "cell_type": "code",
   "execution_count": 6,
   "outputs": [],
   "source": [],
   "metadata": {
    "collapsed": false,
    "ExecuteTime": {
     "end_time": "2023-10-30T04:35:07.135237Z",
     "start_time": "2023-10-30T04:35:07.130181Z"
    }
   },
   "id": "5620cb8fe13d63dc"
  },
  {
   "cell_type": "code",
   "execution_count": 6,
   "outputs": [],
   "source": [],
   "metadata": {
    "collapsed": false,
    "ExecuteTime": {
     "end_time": "2023-10-30T04:35:07.140718Z",
     "start_time": "2023-10-30T04:35:07.134260Z"
    }
   },
   "id": "44013f193b6c9ced"
  },
  {
   "cell_type": "code",
   "execution_count": 6,
   "outputs": [],
   "source": [],
   "metadata": {
    "collapsed": false,
    "ExecuteTime": {
     "end_time": "2023-10-30T04:35:07.140982Z",
     "start_time": "2023-10-30T04:35:07.137091Z"
    }
   },
   "id": "7ee09adca494eeaa"
  },
  {
   "cell_type": "code",
   "execution_count": 6,
   "outputs": [],
   "source": [],
   "metadata": {
    "collapsed": false,
    "ExecuteTime": {
     "end_time": "2023-10-30T04:35:07.144493Z",
     "start_time": "2023-10-30T04:35:07.139852Z"
    }
   },
   "id": "1813bf25bb2720b7"
  },
  {
   "cell_type": "code",
   "execution_count": 6,
   "id": "initial_id",
   "metadata": {
    "collapsed": true,
    "ExecuteTime": {
     "end_time": "2023-10-30T04:35:07.147492Z",
     "start_time": "2023-10-30T04:35:07.143098Z"
    }
   },
   "outputs": [],
   "source": []
  }
 ],
 "metadata": {
  "kernelspec": {
   "display_name": "Python 3",
   "language": "python",
   "name": "python3"
  },
  "language_info": {
   "codemirror_mode": {
    "name": "ipython",
    "version": 2
   },
   "file_extension": ".py",
   "mimetype": "text/x-python",
   "name": "python",
   "nbconvert_exporter": "python",
   "pygments_lexer": "ipython2",
   "version": "2.7.6"
  }
 },
 "nbformat": 4,
 "nbformat_minor": 5
}
