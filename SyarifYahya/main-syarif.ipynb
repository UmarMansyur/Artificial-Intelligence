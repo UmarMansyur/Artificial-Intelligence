{
 "cells": [
  {
   "cell_type": "code",
   "execution_count": null,
   "metadata": {},
   "outputs": [],
   "source": [
    "import pandas as pd\n",
    "import openpyxl as xl\n"
   ]
  },
  {
   "cell_type": "code",
   "execution_count": null,
   "metadata": {},
   "outputs": [],
   "source": [
    "# Tes DATA\n",
    "data = pd.read_csv('./data.csv', sep=';')\n",
    "data.head()"
   ]
  },
  {
   "cell_type": "code",
   "execution_count": null,
   "metadata": {},
   "outputs": [],
   "source": [
    "# Soal No. 2\n",
    "dataList = data.iloc[:, :-1]\n",
    "dataList['Nilai Akhir'] = dataList['Nilai Formatif'] * 0.3 + dataList['Nilai UTS'] * 0.3 + dataList['Nilai UAS'] * 0.4\n",
    "dataList"
   ]
  },
  {
   "cell_type": "code",
   "execution_count": null,
   "metadata": {},
   "outputs": [],
   "source": [
    "# Soal No. 1\n",
    "# 5 peringkat terbawah\n",
    "peringkatBawah = dataList.sort_values(by=['Nilai Akhir']).head()\n",
    "peringkatBawah"
   ]
  },
  {
   "cell_type": "code",
   "execution_count": null,
   "metadata": {},
   "outputs": [],
   "source": [
    "# Soal No. 1\n",
    "# 5 peringkat teratas\n",
    "peringkatAtas = dataList.sort_values(by=['Nilai Akhir'], ascending=False).head()\n",
    "peringkatAtas"
   ]
  },
  {
   "cell_type": "code",
   "execution_count": null,
   "metadata": {},
   "outputs": [],
   "source": [
    "# Soal No. 2\n",
    "# Tentukan nilai rata-rata dari masing-masing siswa!\n",
    "dataList['Rata Rata'] = ((dataList['Nilai Formatif'] + dataList['Nilai UTS'] + dataList['Nilai UAS']) / 3).round(1)\n",
    "dataList"
   ]
  },
  {
   "cell_type": "code",
   "execution_count": null,
   "metadata": {},
   "outputs": [],
   "source": [
    "# Soal No. 3\n",
    "rataRata = dataList[['Nilai Formatif', 'Nilai UTS', 'Nilai UAS']].mean()\n",
    "rataRata\n"
   ]
  },
  {
   "cell_type": "code",
   "execution_count": null,
   "metadata": {},
   "outputs": [],
   "source": [
    "# Soal No. 4\n",
    "# Nilai akhir tertinggi\n",
    "nilaiAkhirTertinggi = dataList[dataList['Rank'] == 1]\n",
    "nilaiAkhirTertinggi\n"
   ]
  },
  {
   "cell_type": "code",
   "execution_count": null,
   "metadata": {},
   "outputs": [],
   "source": [
    "# Soal No. 4\n",
    "# Nilai akhir terendah\n",
    "nilaiAkhirTerendah = dataList.sort_values(by=['Nilai Akhir']).head(1)\n",
    "nilaiAkhirTerendah\n"
   ]
  },
  {
   "cell_type": "code",
   "execution_count": null,
   "metadata": {},
   "outputs": [],
   "source": [
    "# Soal No. 5\n",
    "# Tampilkan siswa yang memiliki nilai akhir yang sama.\n",
    "\n",
    "for nilai_akhir, group in dataList.groupby('Nilai Akhir'):\n",
    "    if len(group) > 1:\n",
    "        print(f\"Nilai Akhir: {nilai_akhir}\")\n",
    "        print(group[['Nama', 'Nilai Akhir']])"
   ]
  },
  {
   "cell_type": "code",
   "execution_count": null,
   "metadata": {},
   "outputs": [],
   "source": [
    "# Soal No. 6\n",
    "# Tampilkan semua siswa yang memiliki nilai akhir > 80\n",
    "nilaiAkhirTinggi = dataList[dataList['Nilai Akhir'] > 80]\n",
    "nilaiAkhirTinggi"
   ]
  },
  {
   "cell_type": "code",
   "execution_count": null,
   "metadata": {},
   "outputs": [],
   "source": [
    "# Soal No. 7\n",
    "# Berikan peringkat pada masing-masing siswa berdasarkan nilai akhirnya dan tampilkan dalam bentuk dataframe!\n",
    "\n",
    "dataList['Rank'] = dataList['Nilai Akhir'].rank(ascending=False).astype(int)\n",
    "dataList\n"
   ]
  },
  {
   "cell_type": "code",
   "execution_count": null,
   "metadata": {},
   "outputs": [],
   "source": [
    "#Soal No. 8\n",
    "# Export hasil data.csv kedalam bentuk excel!\n",
    "dataList.to_excel('./data.xlsx', index=False)\n",
    "\n",
    "\n"
   ]
  }
 ],
 "metadata": {
  "kernelspec": {
   "display_name": "Python 3",
   "language": "python",
   "name": "python3"
  },
  "language_info": {
   "codemirror_mode": {
    "name": "ipython",
    "version": 3
   },
   "file_extension": ".py",
   "mimetype": "text/x-python",
   "name": "python",
   "nbconvert_exporter": "python",
   "pygments_lexer": "ipython3",
   "version": "3.10.11"
  },
  "orig_nbformat": 4
 },
 "nbformat": 4,
 "nbformat_minor": 2
}
