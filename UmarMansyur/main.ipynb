{
 "cells": [
  {
   "cell_type": "code",
   "execution_count": 57,
   "metadata": {
    "ExecuteTime": {
     "end_time": "2023-10-28T14:07:10.694112Z",
     "start_time": "2023-10-28T14:07:10.681127Z"
    }
   },
   "outputs": [],
   "source": [
    "import pandas as pd\n",
    "from openpyxl import load_workbook"
   ]
  },
  {
   "cell_type": "code",
   "execution_count": 58,
   "metadata": {
    "ExecuteTime": {
     "end_time": "2023-10-28T14:07:10.718699Z",
     "start_time": "2023-10-28T14:07:10.687595Z"
    }
   },
   "outputs": [
    {
     "data": {
      "text/plain": "   Nama  Nilai Formatif  Nilai UTS  Nilai UAS  Unnamed: 4\n0  Andi              80         70         90         NaN\n1  Budi              90         80         70         NaN\n2  Caca              70         90         80         NaN\n3  Dedi              60         80         90         NaN\n4  Euis              50         70         80         NaN",
      "text/html": "<div>\n<style scoped>\n    .dataframe tbody tr th:only-of-type {\n        vertical-align: middle;\n    }\n\n    .dataframe tbody tr th {\n        vertical-align: top;\n    }\n\n    .dataframe thead th {\n        text-align: right;\n    }\n</style>\n<table border=\"1\" class=\"dataframe\">\n  <thead>\n    <tr style=\"text-align: right;\">\n      <th></th>\n      <th>Nama</th>\n      <th>Nilai Formatif</th>\n      <th>Nilai UTS</th>\n      <th>Nilai UAS</th>\n      <th>Unnamed: 4</th>\n    </tr>\n  </thead>\n  <tbody>\n    <tr>\n      <th>0</th>\n      <td>Andi</td>\n      <td>80</td>\n      <td>70</td>\n      <td>90</td>\n      <td>NaN</td>\n    </tr>\n    <tr>\n      <th>1</th>\n      <td>Budi</td>\n      <td>90</td>\n      <td>80</td>\n      <td>70</td>\n      <td>NaN</td>\n    </tr>\n    <tr>\n      <th>2</th>\n      <td>Caca</td>\n      <td>70</td>\n      <td>90</td>\n      <td>80</td>\n      <td>NaN</td>\n    </tr>\n    <tr>\n      <th>3</th>\n      <td>Dedi</td>\n      <td>60</td>\n      <td>80</td>\n      <td>90</td>\n      <td>NaN</td>\n    </tr>\n    <tr>\n      <th>4</th>\n      <td>Euis</td>\n      <td>50</td>\n      <td>70</td>\n      <td>80</td>\n      <td>NaN</td>\n    </tr>\n  </tbody>\n</table>\n</div>"
     },
     "execution_count": 58,
     "metadata": {},
     "output_type": "execute_result"
    }
   ],
   "source": [
    "df = pd.read_csv('./dataset.csv', sep=\";\")\n",
    "df.head()"
   ]
  },
  {
   "cell_type": "code",
   "execution_count": 59,
   "metadata": {
    "ExecuteTime": {
     "end_time": "2023-10-28T14:07:10.719348Z",
     "start_time": "2023-10-28T14:07:10.706347Z"
    }
   },
   "outputs": [
    {
     "data": {
      "text/plain": "       Nama  Nilai Formatif  Nilai UTS  Nilai UAS  Nilai Akhir\n0      Andi              80         70         90         81.0\n1      Budi              90         80         70         79.0\n2      Caca              70         90         80         80.0\n3      Dedi              60         80         90         78.0\n4      Euis              50         70         80         68.0\n5      Fafa              40         60         70         58.0\n6      Gigi              30         50         60         48.0\n7      Haha              20         40         50         38.0\n8      Iwan              10         30         40         28.0\n9      Joko               0         20         30         18.0\n10    Riyan              98         70         60         74.4\n11    Alfin              80         70         90         81.0\n12    Rizky              90         80         70         79.0\n13    Rizal              70         90         80         80.0\n14  Maulana              60         80         90         78.0",
      "text/html": "<div>\n<style scoped>\n    .dataframe tbody tr th:only-of-type {\n        vertical-align: middle;\n    }\n\n    .dataframe tbody tr th {\n        vertical-align: top;\n    }\n\n    .dataframe thead th {\n        text-align: right;\n    }\n</style>\n<table border=\"1\" class=\"dataframe\">\n  <thead>\n    <tr style=\"text-align: right;\">\n      <th></th>\n      <th>Nama</th>\n      <th>Nilai Formatif</th>\n      <th>Nilai UTS</th>\n      <th>Nilai UAS</th>\n      <th>Nilai Akhir</th>\n    </tr>\n  </thead>\n  <tbody>\n    <tr>\n      <th>0</th>\n      <td>Andi</td>\n      <td>80</td>\n      <td>70</td>\n      <td>90</td>\n      <td>81.0</td>\n    </tr>\n    <tr>\n      <th>1</th>\n      <td>Budi</td>\n      <td>90</td>\n      <td>80</td>\n      <td>70</td>\n      <td>79.0</td>\n    </tr>\n    <tr>\n      <th>2</th>\n      <td>Caca</td>\n      <td>70</td>\n      <td>90</td>\n      <td>80</td>\n      <td>80.0</td>\n    </tr>\n    <tr>\n      <th>3</th>\n      <td>Dedi</td>\n      <td>60</td>\n      <td>80</td>\n      <td>90</td>\n      <td>78.0</td>\n    </tr>\n    <tr>\n      <th>4</th>\n      <td>Euis</td>\n      <td>50</td>\n      <td>70</td>\n      <td>80</td>\n      <td>68.0</td>\n    </tr>\n    <tr>\n      <th>5</th>\n      <td>Fafa</td>\n      <td>40</td>\n      <td>60</td>\n      <td>70</td>\n      <td>58.0</td>\n    </tr>\n    <tr>\n      <th>6</th>\n      <td>Gigi</td>\n      <td>30</td>\n      <td>50</td>\n      <td>60</td>\n      <td>48.0</td>\n    </tr>\n    <tr>\n      <th>7</th>\n      <td>Haha</td>\n      <td>20</td>\n      <td>40</td>\n      <td>50</td>\n      <td>38.0</td>\n    </tr>\n    <tr>\n      <th>8</th>\n      <td>Iwan</td>\n      <td>10</td>\n      <td>30</td>\n      <td>40</td>\n      <td>28.0</td>\n    </tr>\n    <tr>\n      <th>9</th>\n      <td>Joko</td>\n      <td>0</td>\n      <td>20</td>\n      <td>30</td>\n      <td>18.0</td>\n    </tr>\n    <tr>\n      <th>10</th>\n      <td>Riyan</td>\n      <td>98</td>\n      <td>70</td>\n      <td>60</td>\n      <td>74.4</td>\n    </tr>\n    <tr>\n      <th>11</th>\n      <td>Alfin</td>\n      <td>80</td>\n      <td>70</td>\n      <td>90</td>\n      <td>81.0</td>\n    </tr>\n    <tr>\n      <th>12</th>\n      <td>Rizky</td>\n      <td>90</td>\n      <td>80</td>\n      <td>70</td>\n      <td>79.0</td>\n    </tr>\n    <tr>\n      <th>13</th>\n      <td>Rizal</td>\n      <td>70</td>\n      <td>90</td>\n      <td>80</td>\n      <td>80.0</td>\n    </tr>\n    <tr>\n      <th>14</th>\n      <td>Maulana</td>\n      <td>60</td>\n      <td>80</td>\n      <td>90</td>\n      <td>78.0</td>\n    </tr>\n  </tbody>\n</table>\n</div>"
     },
     "execution_count": 59,
     "metadata": {},
     "output_type": "execute_result"
    }
   ],
   "source": [
    "df = df.iloc[:, :-1]\n",
    "df['Nilai Akhir'] = df['Nilai Formatif'] * 0.3 + df['Nilai UTS'] * 0.3 + df['Nilai UAS'] * 0.4\n",
    "df"
   ]
  },
  {
   "cell_type": "code",
   "execution_count": 60,
   "metadata": {
    "ExecuteTime": {
     "end_time": "2023-10-28T14:07:10.719746Z",
     "start_time": "2023-10-28T14:07:10.713630Z"
    }
   },
   "outputs": [
    {
     "data": {
      "text/plain": "     Nama  Nilai Formatif  Nilai UTS  Nilai UAS  Nilai Akhir\n0    Andi              80         70         90         81.0\n11  Alfin              80         70         90         81.0\n2    Caca              70         90         80         80.0\n13  Rizal              70         90         80         80.0\n1    Budi              90         80         70         79.0",
      "text/html": "<div>\n<style scoped>\n    .dataframe tbody tr th:only-of-type {\n        vertical-align: middle;\n    }\n\n    .dataframe tbody tr th {\n        vertical-align: top;\n    }\n\n    .dataframe thead th {\n        text-align: right;\n    }\n</style>\n<table border=\"1\" class=\"dataframe\">\n  <thead>\n    <tr style=\"text-align: right;\">\n      <th></th>\n      <th>Nama</th>\n      <th>Nilai Formatif</th>\n      <th>Nilai UTS</th>\n      <th>Nilai UAS</th>\n      <th>Nilai Akhir</th>\n    </tr>\n  </thead>\n  <tbody>\n    <tr>\n      <th>0</th>\n      <td>Andi</td>\n      <td>80</td>\n      <td>70</td>\n      <td>90</td>\n      <td>81.0</td>\n    </tr>\n    <tr>\n      <th>11</th>\n      <td>Alfin</td>\n      <td>80</td>\n      <td>70</td>\n      <td>90</td>\n      <td>81.0</td>\n    </tr>\n    <tr>\n      <th>2</th>\n      <td>Caca</td>\n      <td>70</td>\n      <td>90</td>\n      <td>80</td>\n      <td>80.0</td>\n    </tr>\n    <tr>\n      <th>13</th>\n      <td>Rizal</td>\n      <td>70</td>\n      <td>90</td>\n      <td>80</td>\n      <td>80.0</td>\n    </tr>\n    <tr>\n      <th>1</th>\n      <td>Budi</td>\n      <td>90</td>\n      <td>80</td>\n      <td>70</td>\n      <td>79.0</td>\n    </tr>\n  </tbody>\n</table>\n</div>"
     },
     "execution_count": 60,
     "metadata": {},
     "output_type": "execute_result"
    }
   ],
   "source": [
    "max_rank = df.sort_values(by=['Nilai Akhir'], ascending=False).iloc[0:5, :]\n",
    "max_rank"
   ]
  },
  {
   "cell_type": "code",
   "execution_count": 61,
   "metadata": {
    "ExecuteTime": {
     "end_time": "2023-10-28T14:07:10.730420Z",
     "start_time": "2023-10-28T14:07:10.721825Z"
    }
   },
   "outputs": [
    {
     "data": {
      "text/plain": "   Nama  Nilai Formatif  Nilai UTS  Nilai UAS  Nilai Akhir\n9  Joko               0         20         30         18.0\n8  Iwan              10         30         40         28.0\n7  Haha              20         40         50         38.0\n6  Gigi              30         50         60         48.0\n5  Fafa              40         60         70         58.0",
      "text/html": "<div>\n<style scoped>\n    .dataframe tbody tr th:only-of-type {\n        vertical-align: middle;\n    }\n\n    .dataframe tbody tr th {\n        vertical-align: top;\n    }\n\n    .dataframe thead th {\n        text-align: right;\n    }\n</style>\n<table border=\"1\" class=\"dataframe\">\n  <thead>\n    <tr style=\"text-align: right;\">\n      <th></th>\n      <th>Nama</th>\n      <th>Nilai Formatif</th>\n      <th>Nilai UTS</th>\n      <th>Nilai UAS</th>\n      <th>Nilai Akhir</th>\n    </tr>\n  </thead>\n  <tbody>\n    <tr>\n      <th>9</th>\n      <td>Joko</td>\n      <td>0</td>\n      <td>20</td>\n      <td>30</td>\n      <td>18.0</td>\n    </tr>\n    <tr>\n      <th>8</th>\n      <td>Iwan</td>\n      <td>10</td>\n      <td>30</td>\n      <td>40</td>\n      <td>28.0</td>\n    </tr>\n    <tr>\n      <th>7</th>\n      <td>Haha</td>\n      <td>20</td>\n      <td>40</td>\n      <td>50</td>\n      <td>38.0</td>\n    </tr>\n    <tr>\n      <th>6</th>\n      <td>Gigi</td>\n      <td>30</td>\n      <td>50</td>\n      <td>60</td>\n      <td>48.0</td>\n    </tr>\n    <tr>\n      <th>5</th>\n      <td>Fafa</td>\n      <td>40</td>\n      <td>60</td>\n      <td>70</td>\n      <td>58.0</td>\n    </tr>\n  </tbody>\n</table>\n</div>"
     },
     "execution_count": 61,
     "metadata": {},
     "output_type": "execute_result"
    }
   ],
   "source": [
    "min_rank = df.sort_values(by=['Nilai Akhir'], ascending=True).iloc[0:5,:]\n",
    "min_rank"
   ]
  },
  {
   "cell_type": "code",
   "execution_count": 62,
   "metadata": {
    "ExecuteTime": {
     "end_time": "2023-10-28T14:07:10.746328Z",
     "start_time": "2023-10-28T14:07:10.731528Z"
    }
   },
   "outputs": [
    {
     "data": {
      "text/plain": "       Nama  Nilai Formatif  Nilai UTS  Nilai UAS  Nilai Akhir  Rata-Rata\n0      Andi              80         70         90         81.0  80.000000\n1      Budi              90         80         70         79.0  80.000000\n2      Caca              70         90         80         80.0  80.000000\n3      Dedi              60         80         90         78.0  76.666667\n4      Euis              50         70         80         68.0  66.666667\n5      Fafa              40         60         70         58.0  56.666667\n6      Gigi              30         50         60         48.0  46.666667\n7      Haha              20         40         50         38.0  36.666667\n8      Iwan              10         30         40         28.0  26.666667\n9      Joko               0         20         30         18.0  16.666667\n10    Riyan              98         70         60         74.4  76.000000\n11    Alfin              80         70         90         81.0  80.000000\n12    Rizky              90         80         70         79.0  80.000000\n13    Rizal              70         90         80         80.0  80.000000\n14  Maulana              60         80         90         78.0  76.666667",
      "text/html": "<div>\n<style scoped>\n    .dataframe tbody tr th:only-of-type {\n        vertical-align: middle;\n    }\n\n    .dataframe tbody tr th {\n        vertical-align: top;\n    }\n\n    .dataframe thead th {\n        text-align: right;\n    }\n</style>\n<table border=\"1\" class=\"dataframe\">\n  <thead>\n    <tr style=\"text-align: right;\">\n      <th></th>\n      <th>Nama</th>\n      <th>Nilai Formatif</th>\n      <th>Nilai UTS</th>\n      <th>Nilai UAS</th>\n      <th>Nilai Akhir</th>\n      <th>Rata-Rata</th>\n    </tr>\n  </thead>\n  <tbody>\n    <tr>\n      <th>0</th>\n      <td>Andi</td>\n      <td>80</td>\n      <td>70</td>\n      <td>90</td>\n      <td>81.0</td>\n      <td>80.000000</td>\n    </tr>\n    <tr>\n      <th>1</th>\n      <td>Budi</td>\n      <td>90</td>\n      <td>80</td>\n      <td>70</td>\n      <td>79.0</td>\n      <td>80.000000</td>\n    </tr>\n    <tr>\n      <th>2</th>\n      <td>Caca</td>\n      <td>70</td>\n      <td>90</td>\n      <td>80</td>\n      <td>80.0</td>\n      <td>80.000000</td>\n    </tr>\n    <tr>\n      <th>3</th>\n      <td>Dedi</td>\n      <td>60</td>\n      <td>80</td>\n      <td>90</td>\n      <td>78.0</td>\n      <td>76.666667</td>\n    </tr>\n    <tr>\n      <th>4</th>\n      <td>Euis</td>\n      <td>50</td>\n      <td>70</td>\n      <td>80</td>\n      <td>68.0</td>\n      <td>66.666667</td>\n    </tr>\n    <tr>\n      <th>5</th>\n      <td>Fafa</td>\n      <td>40</td>\n      <td>60</td>\n      <td>70</td>\n      <td>58.0</td>\n      <td>56.666667</td>\n    </tr>\n    <tr>\n      <th>6</th>\n      <td>Gigi</td>\n      <td>30</td>\n      <td>50</td>\n      <td>60</td>\n      <td>48.0</td>\n      <td>46.666667</td>\n    </tr>\n    <tr>\n      <th>7</th>\n      <td>Haha</td>\n      <td>20</td>\n      <td>40</td>\n      <td>50</td>\n      <td>38.0</td>\n      <td>36.666667</td>\n    </tr>\n    <tr>\n      <th>8</th>\n      <td>Iwan</td>\n      <td>10</td>\n      <td>30</td>\n      <td>40</td>\n      <td>28.0</td>\n      <td>26.666667</td>\n    </tr>\n    <tr>\n      <th>9</th>\n      <td>Joko</td>\n      <td>0</td>\n      <td>20</td>\n      <td>30</td>\n      <td>18.0</td>\n      <td>16.666667</td>\n    </tr>\n    <tr>\n      <th>10</th>\n      <td>Riyan</td>\n      <td>98</td>\n      <td>70</td>\n      <td>60</td>\n      <td>74.4</td>\n      <td>76.000000</td>\n    </tr>\n    <tr>\n      <th>11</th>\n      <td>Alfin</td>\n      <td>80</td>\n      <td>70</td>\n      <td>90</td>\n      <td>81.0</td>\n      <td>80.000000</td>\n    </tr>\n    <tr>\n      <th>12</th>\n      <td>Rizky</td>\n      <td>90</td>\n      <td>80</td>\n      <td>70</td>\n      <td>79.0</td>\n      <td>80.000000</td>\n    </tr>\n    <tr>\n      <th>13</th>\n      <td>Rizal</td>\n      <td>70</td>\n      <td>90</td>\n      <td>80</td>\n      <td>80.0</td>\n      <td>80.000000</td>\n    </tr>\n    <tr>\n      <th>14</th>\n      <td>Maulana</td>\n      <td>60</td>\n      <td>80</td>\n      <td>90</td>\n      <td>78.0</td>\n      <td>76.666667</td>\n    </tr>\n  </tbody>\n</table>\n</div>"
     },
     "execution_count": 62,
     "metadata": {},
     "output_type": "execute_result"
    }
   ],
   "source": [
    "df['Rata-Rata'] = df.iloc[:, 1:4].mean(axis=1)\n",
    "df"
   ]
  },
  {
   "cell_type": "code",
   "execution_count": 63,
   "metadata": {
    "ExecuteTime": {
     "end_time": "2023-10-28T14:07:10.763186Z",
     "start_time": "2023-10-28T14:07:10.739416Z"
    }
   },
   "outputs": [
    {
     "data": {
      "text/plain": "                Rata-Rata\nNilai Formatif  56.533333\nNilai UTS       65.333333\nNilai UAS       70.000000",
      "text/html": "<div>\n<style scoped>\n    .dataframe tbody tr th:only-of-type {\n        vertical-align: middle;\n    }\n\n    .dataframe tbody tr th {\n        vertical-align: top;\n    }\n\n    .dataframe thead th {\n        text-align: right;\n    }\n</style>\n<table border=\"1\" class=\"dataframe\">\n  <thead>\n    <tr style=\"text-align: right;\">\n      <th></th>\n      <th>Rata-Rata</th>\n    </tr>\n  </thead>\n  <tbody>\n    <tr>\n      <th>Nilai Formatif</th>\n      <td>56.533333</td>\n    </tr>\n    <tr>\n      <th>Nilai UTS</th>\n      <td>65.333333</td>\n    </tr>\n    <tr>\n      <th>Nilai UAS</th>\n      <td>70.000000</td>\n    </tr>\n  </tbody>\n</table>\n</div>"
     },
     "execution_count": 63,
     "metadata": {},
     "output_type": "execute_result"
    }
   ],
   "source": [
    "avg = [df['Nilai Formatif'].mean(), df['Nilai UTS'].mean(), df['Nilai UAS'].mean()]\n",
    "avg = pd.DataFrame(avg, index=['Nilai Formatif', 'Nilai UTS', 'Nilai UAS'], columns=['Rata-Rata'])\n",
    "avg"
   ]
  },
  {
   "cell_type": "code",
   "execution_count": 78,
   "outputs": [
    {
     "data": {
      "text/plain": "     Nama  Nilai Formatif  Nilai UTS  Nilai UAS  Nilai Akhir  Rata-Rata  Rank\n0    Andi              80         70         90         81.0       80.0   1.0\n11  Alfin              80         70         90         81.0       80.0   1.0",
      "text/html": "<div>\n<style scoped>\n    .dataframe tbody tr th:only-of-type {\n        vertical-align: middle;\n    }\n\n    .dataframe tbody tr th {\n        vertical-align: top;\n    }\n\n    .dataframe thead th {\n        text-align: right;\n    }\n</style>\n<table border=\"1\" class=\"dataframe\">\n  <thead>\n    <tr style=\"text-align: right;\">\n      <th></th>\n      <th>Nama</th>\n      <th>Nilai Formatif</th>\n      <th>Nilai UTS</th>\n      <th>Nilai UAS</th>\n      <th>Nilai Akhir</th>\n      <th>Rata-Rata</th>\n      <th>Rank</th>\n    </tr>\n  </thead>\n  <tbody>\n    <tr>\n      <th>0</th>\n      <td>Andi</td>\n      <td>80</td>\n      <td>70</td>\n      <td>90</td>\n      <td>81.0</td>\n      <td>80.0</td>\n      <td>1.0</td>\n    </tr>\n    <tr>\n      <th>11</th>\n      <td>Alfin</td>\n      <td>80</td>\n      <td>70</td>\n      <td>90</td>\n      <td>81.0</td>\n      <td>80.0</td>\n      <td>1.0</td>\n    </tr>\n  </tbody>\n</table>\n</div>"
     },
     "execution_count": 78,
     "metadata": {},
     "output_type": "execute_result"
    }
   ],
   "source": [
    "max_value = df[df['Nilai Akhir'] == df['Nilai Akhir'].max()]\n",
    "max_value"
   ],
   "metadata": {
    "collapsed": false,
    "ExecuteTime": {
     "end_time": "2023-10-28T14:18:09.174696Z",
     "start_time": "2023-10-28T14:18:09.172252Z"
    }
   }
  },
  {
   "cell_type": "code",
   "execution_count": 79,
   "outputs": [
    {
     "data": {
      "text/plain": "   Nama  Nilai Formatif  Nilai UTS  Nilai UAS  Nilai Akhir  Rata-Rata  Rank\n9  Joko               0         20         30         18.0  16.666667  11.0",
      "text/html": "<div>\n<style scoped>\n    .dataframe tbody tr th:only-of-type {\n        vertical-align: middle;\n    }\n\n    .dataframe tbody tr th {\n        vertical-align: top;\n    }\n\n    .dataframe thead th {\n        text-align: right;\n    }\n</style>\n<table border=\"1\" class=\"dataframe\">\n  <thead>\n    <tr style=\"text-align: right;\">\n      <th></th>\n      <th>Nama</th>\n      <th>Nilai Formatif</th>\n      <th>Nilai UTS</th>\n      <th>Nilai UAS</th>\n      <th>Nilai Akhir</th>\n      <th>Rata-Rata</th>\n      <th>Rank</th>\n    </tr>\n  </thead>\n  <tbody>\n    <tr>\n      <th>9</th>\n      <td>Joko</td>\n      <td>0</td>\n      <td>20</td>\n      <td>30</td>\n      <td>18.0</td>\n      <td>16.666667</td>\n      <td>11.0</td>\n    </tr>\n  </tbody>\n</table>\n</div>"
     },
     "execution_count": 79,
     "metadata": {},
     "output_type": "execute_result"
    }
   ],
   "source": [
    "min_value = df[df['Nilai Akhir'] == df['Nilai Akhir'].min()]\n",
    "min_value"
   ],
   "metadata": {
    "collapsed": false,
    "ExecuteTime": {
     "end_time": "2023-10-28T14:18:51.937162Z",
     "start_time": "2023-10-28T14:18:51.926668Z"
    }
   }
  },
  {
   "cell_type": "code",
   "execution_count": 64,
   "outputs": [
    {
     "data": {
      "text/plain": "       Nama  Nilai Formatif  Nilai UTS  Nilai UAS  Nilai Akhir  Rata-Rata\n0      Andi              80         70         90         81.0  80.000000\n1      Budi              90         80         70         79.0  80.000000\n2      Caca              70         90         80         80.0  80.000000\n3      Dedi              60         80         90         78.0  76.666667\n11    Alfin              80         70         90         81.0  80.000000\n12    Rizky              90         80         70         79.0  80.000000\n13    Rizal              70         90         80         80.0  80.000000\n14  Maulana              60         80         90         78.0  76.666667",
      "text/html": "<div>\n<style scoped>\n    .dataframe tbody tr th:only-of-type {\n        vertical-align: middle;\n    }\n\n    .dataframe tbody tr th {\n        vertical-align: top;\n    }\n\n    .dataframe thead th {\n        text-align: right;\n    }\n</style>\n<table border=\"1\" class=\"dataframe\">\n  <thead>\n    <tr style=\"text-align: right;\">\n      <th></th>\n      <th>Nama</th>\n      <th>Nilai Formatif</th>\n      <th>Nilai UTS</th>\n      <th>Nilai UAS</th>\n      <th>Nilai Akhir</th>\n      <th>Rata-Rata</th>\n    </tr>\n  </thead>\n  <tbody>\n    <tr>\n      <th>0</th>\n      <td>Andi</td>\n      <td>80</td>\n      <td>70</td>\n      <td>90</td>\n      <td>81.0</td>\n      <td>80.000000</td>\n    </tr>\n    <tr>\n      <th>1</th>\n      <td>Budi</td>\n      <td>90</td>\n      <td>80</td>\n      <td>70</td>\n      <td>79.0</td>\n      <td>80.000000</td>\n    </tr>\n    <tr>\n      <th>2</th>\n      <td>Caca</td>\n      <td>70</td>\n      <td>90</td>\n      <td>80</td>\n      <td>80.0</td>\n      <td>80.000000</td>\n    </tr>\n    <tr>\n      <th>3</th>\n      <td>Dedi</td>\n      <td>60</td>\n      <td>80</td>\n      <td>90</td>\n      <td>78.0</td>\n      <td>76.666667</td>\n    </tr>\n    <tr>\n      <th>11</th>\n      <td>Alfin</td>\n      <td>80</td>\n      <td>70</td>\n      <td>90</td>\n      <td>81.0</td>\n      <td>80.000000</td>\n    </tr>\n    <tr>\n      <th>12</th>\n      <td>Rizky</td>\n      <td>90</td>\n      <td>80</td>\n      <td>70</td>\n      <td>79.0</td>\n      <td>80.000000</td>\n    </tr>\n    <tr>\n      <th>13</th>\n      <td>Rizal</td>\n      <td>70</td>\n      <td>90</td>\n      <td>80</td>\n      <td>80.0</td>\n      <td>80.000000</td>\n    </tr>\n    <tr>\n      <th>14</th>\n      <td>Maulana</td>\n      <td>60</td>\n      <td>80</td>\n      <td>90</td>\n      <td>78.0</td>\n      <td>76.666667</td>\n    </tr>\n  </tbody>\n</table>\n</div>"
     },
     "execution_count": 64,
     "metadata": {},
     "output_type": "execute_result"
    }
   ],
   "source": [
    "same_value = df[df.duplicated(subset=['Nilai Akhir'])]\n",
    "same_value = df[df['Nilai Akhir'].isin(same_value['Nilai Akhir'])]\n",
    "same_value"
   ],
   "metadata": {
    "collapsed": false,
    "ExecuteTime": {
     "end_time": "2023-10-28T14:07:10.794357Z",
     "start_time": "2023-10-28T14:07:10.748111Z"
    }
   }
  },
  {
   "cell_type": "code",
   "execution_count": 65,
   "outputs": [
    {
     "data": {
      "text/plain": "     Nama  Nilai Formatif  Nilai UTS  Nilai UAS  Nilai Akhir  Rata-Rata\n0    Andi              80         70         90         81.0       80.0\n11  Alfin              80         70         90         81.0       80.0",
      "text/html": "<div>\n<style scoped>\n    .dataframe tbody tr th:only-of-type {\n        vertical-align: middle;\n    }\n\n    .dataframe tbody tr th {\n        vertical-align: top;\n    }\n\n    .dataframe thead th {\n        text-align: right;\n    }\n</style>\n<table border=\"1\" class=\"dataframe\">\n  <thead>\n    <tr style=\"text-align: right;\">\n      <th></th>\n      <th>Nama</th>\n      <th>Nilai Formatif</th>\n      <th>Nilai UTS</th>\n      <th>Nilai UAS</th>\n      <th>Nilai Akhir</th>\n      <th>Rata-Rata</th>\n    </tr>\n  </thead>\n  <tbody>\n    <tr>\n      <th>0</th>\n      <td>Andi</td>\n      <td>80</td>\n      <td>70</td>\n      <td>90</td>\n      <td>81.0</td>\n      <td>80.0</td>\n    </tr>\n    <tr>\n      <th>11</th>\n      <td>Alfin</td>\n      <td>80</td>\n      <td>70</td>\n      <td>90</td>\n      <td>81.0</td>\n      <td>80.0</td>\n    </tr>\n  </tbody>\n</table>\n</div>"
     },
     "execution_count": 65,
     "metadata": {},
     "output_type": "execute_result"
    }
   ],
   "source": [
    "value = df[df['Nilai Akhir'] > 80]\n",
    "value"
   ],
   "metadata": {
    "collapsed": false,
    "ExecuteTime": {
     "end_time": "2023-10-28T14:07:10.827138Z",
     "start_time": "2023-10-28T14:07:10.754658Z"
    }
   }
  },
  {
   "cell_type": "code",
   "execution_count": 66,
   "outputs": [
    {
     "data": {
      "text/plain": "       Nama  Nilai Formatif  Nilai UTS  Nilai UAS  Nilai Akhir  Rata-Rata  \\\n0      Andi              80         70         90         81.0  80.000000   \n11    Alfin              80         70         90         81.0  80.000000   \n2      Caca              70         90         80         80.0  80.000000   \n13    Rizal              70         90         80         80.0  80.000000   \n1      Budi              90         80         70         79.0  80.000000   \n12    Rizky              90         80         70         79.0  80.000000   \n3      Dedi              60         80         90         78.0  76.666667   \n14  Maulana              60         80         90         78.0  76.666667   \n10    Riyan              98         70         60         74.4  76.000000   \n4      Euis              50         70         80         68.0  66.666667   \n5      Fafa              40         60         70         58.0  56.666667   \n6      Gigi              30         50         60         48.0  46.666667   \n7      Haha              20         40         50         38.0  36.666667   \n8      Iwan              10         30         40         28.0  26.666667   \n9      Joko               0         20         30         18.0  16.666667   \n\n    Rank  \n0    1.0  \n11   1.0  \n2    2.0  \n13   2.0  \n1    3.0  \n12   3.0  \n3    4.0  \n14   4.0  \n10   5.0  \n4    6.0  \n5    7.0  \n6    8.0  \n7    9.0  \n8   10.0  \n9   11.0  ",
      "text/html": "<div>\n<style scoped>\n    .dataframe tbody tr th:only-of-type {\n        vertical-align: middle;\n    }\n\n    .dataframe tbody tr th {\n        vertical-align: top;\n    }\n\n    .dataframe thead th {\n        text-align: right;\n    }\n</style>\n<table border=\"1\" class=\"dataframe\">\n  <thead>\n    <tr style=\"text-align: right;\">\n      <th></th>\n      <th>Nama</th>\n      <th>Nilai Formatif</th>\n      <th>Nilai UTS</th>\n      <th>Nilai UAS</th>\n      <th>Nilai Akhir</th>\n      <th>Rata-Rata</th>\n      <th>Rank</th>\n    </tr>\n  </thead>\n  <tbody>\n    <tr>\n      <th>0</th>\n      <td>Andi</td>\n      <td>80</td>\n      <td>70</td>\n      <td>90</td>\n      <td>81.0</td>\n      <td>80.000000</td>\n      <td>1.0</td>\n    </tr>\n    <tr>\n      <th>11</th>\n      <td>Alfin</td>\n      <td>80</td>\n      <td>70</td>\n      <td>90</td>\n      <td>81.0</td>\n      <td>80.000000</td>\n      <td>1.0</td>\n    </tr>\n    <tr>\n      <th>2</th>\n      <td>Caca</td>\n      <td>70</td>\n      <td>90</td>\n      <td>80</td>\n      <td>80.0</td>\n      <td>80.000000</td>\n      <td>2.0</td>\n    </tr>\n    <tr>\n      <th>13</th>\n      <td>Rizal</td>\n      <td>70</td>\n      <td>90</td>\n      <td>80</td>\n      <td>80.0</td>\n      <td>80.000000</td>\n      <td>2.0</td>\n    </tr>\n    <tr>\n      <th>1</th>\n      <td>Budi</td>\n      <td>90</td>\n      <td>80</td>\n      <td>70</td>\n      <td>79.0</td>\n      <td>80.000000</td>\n      <td>3.0</td>\n    </tr>\n    <tr>\n      <th>12</th>\n      <td>Rizky</td>\n      <td>90</td>\n      <td>80</td>\n      <td>70</td>\n      <td>79.0</td>\n      <td>80.000000</td>\n      <td>3.0</td>\n    </tr>\n    <tr>\n      <th>3</th>\n      <td>Dedi</td>\n      <td>60</td>\n      <td>80</td>\n      <td>90</td>\n      <td>78.0</td>\n      <td>76.666667</td>\n      <td>4.0</td>\n    </tr>\n    <tr>\n      <th>14</th>\n      <td>Maulana</td>\n      <td>60</td>\n      <td>80</td>\n      <td>90</td>\n      <td>78.0</td>\n      <td>76.666667</td>\n      <td>4.0</td>\n    </tr>\n    <tr>\n      <th>10</th>\n      <td>Riyan</td>\n      <td>98</td>\n      <td>70</td>\n      <td>60</td>\n      <td>74.4</td>\n      <td>76.000000</td>\n      <td>5.0</td>\n    </tr>\n    <tr>\n      <th>4</th>\n      <td>Euis</td>\n      <td>50</td>\n      <td>70</td>\n      <td>80</td>\n      <td>68.0</td>\n      <td>66.666667</td>\n      <td>6.0</td>\n    </tr>\n    <tr>\n      <th>5</th>\n      <td>Fafa</td>\n      <td>40</td>\n      <td>60</td>\n      <td>70</td>\n      <td>58.0</td>\n      <td>56.666667</td>\n      <td>7.0</td>\n    </tr>\n    <tr>\n      <th>6</th>\n      <td>Gigi</td>\n      <td>30</td>\n      <td>50</td>\n      <td>60</td>\n      <td>48.0</td>\n      <td>46.666667</td>\n      <td>8.0</td>\n    </tr>\n    <tr>\n      <th>7</th>\n      <td>Haha</td>\n      <td>20</td>\n      <td>40</td>\n      <td>50</td>\n      <td>38.0</td>\n      <td>36.666667</td>\n      <td>9.0</td>\n    </tr>\n    <tr>\n      <th>8</th>\n      <td>Iwan</td>\n      <td>10</td>\n      <td>30</td>\n      <td>40</td>\n      <td>28.0</td>\n      <td>26.666667</td>\n      <td>10.0</td>\n    </tr>\n    <tr>\n      <th>9</th>\n      <td>Joko</td>\n      <td>0</td>\n      <td>20</td>\n      <td>30</td>\n      <td>18.0</td>\n      <td>16.666667</td>\n      <td>11.0</td>\n    </tr>\n  </tbody>\n</table>\n</div>"
     },
     "execution_count": 66,
     "metadata": {},
     "output_type": "execute_result"
    }
   ],
   "source": [
    "df['Rank'] = df['Nilai Akhir'].rank(method='dense', ascending=False)\n",
    "df = df.sort_values(by=['Rank'])\n",
    "df"
   ],
   "metadata": {
    "collapsed": false,
    "ExecuteTime": {
     "end_time": "2023-10-28T14:07:10.828138Z",
     "start_time": "2023-10-28T14:07:10.762714Z"
    }
   }
  },
  {
   "cell_type": "code",
   "execution_count": 67,
   "outputs": [],
   "source": [
    "df.to_excel('final_dataset.xlsx', index=False)"
   ],
   "metadata": {
    "collapsed": false,
    "ExecuteTime": {
     "end_time": "2023-10-28T14:07:10.843362Z",
     "start_time": "2023-10-28T14:07:10.767003Z"
    }
   }
  },
  {
   "cell_type": "code",
   "execution_count": 67,
   "outputs": [],
   "source": [],
   "metadata": {
    "collapsed": false,
    "ExecuteTime": {
     "end_time": "2023-10-28T14:07:10.843624Z",
     "start_time": "2023-10-28T14:07:10.776815Z"
    }
   }
  }
 ],
 "metadata": {
  "kernelspec": {
   "display_name": "Python 3",
   "language": "python",
   "name": "python3"
  },
  "language_info": {
   "codemirror_mode": {
    "name": "ipython",
    "version": 3
   },
   "file_extension": ".py",
   "mimetype": "text/x-python",
   "name": "python",
   "nbconvert_exporter": "python",
   "pygments_lexer": "ipython3",
   "version": "3.10.11"
  }
 },
 "nbformat": 4,
 "nbformat_minor": 2
}
